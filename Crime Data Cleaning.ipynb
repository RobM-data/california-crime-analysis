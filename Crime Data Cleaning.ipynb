{
 "cells": [
  {
   "cell_type": "markdown",
   "id": "90ccce40-a9a7-4696-8f64-7ce7407282a2",
   "metadata": {},
   "source": [
    "# Notebook Introduction"
   ]
  },
  {
   "cell_type": "markdown",
   "id": "daf73c2f-4bac-4104-bf6c-eec1dfa46691",
   "metadata": {},
   "source": [
    "In this notebook I clean some data related to crimes committed between 2020 and 2024. The purpose of cleaning the data is to turn it into a format that can be used for basic EDA, and then imported into Tableau to create a visualisation.\n",
    "\n",
    "The data includes information on the date and time the crime was committed, the geographical location, the type and severity of crime, and a few other features. The aim is to remove invalid data and ensure all columns are in the same format. I will also add and remove some columns depending on how important they will be for the visualisation."
   ]
  },
  {
   "cell_type": "markdown",
   "id": "cbb2324b-8f71-42ef-91a5-6d82bf596abf",
   "metadata": {},
   "source": [
    "# Importing the Data"
   ]
  },
  {
   "cell_type": "markdown",
   "id": "109d1c3b-ed67-422d-8029-ca8dd3de1864",
   "metadata": {},
   "source": [
    "I will start by importing the libraries and making sure the data is read in properly."
   ]
  },
  {
   "cell_type": "code",
   "execution_count": 256,
   "id": "bbaa4285-b867-4e08-86aa-d358ed95d62a",
   "metadata": {},
   "outputs": [],
   "source": [
    "import pandas as pd\n",
    "import numpy as np\n",
    "import matplotlib.pyplot as plt\n",
    "from IPython.display import display, HTML\n",
    "\n",
    "crime_df = pd.read_csv(\"Crime Data Original.csv\")"
   ]
  },
  {
   "cell_type": "code",
   "execution_count": 257,
   "id": "d3c61a5e-c723-4eda-aa0a-273b3e54321a",
   "metadata": {},
   "outputs": [
    {
     "data": {
      "text/html": [
       "<div>\n",
       "<style scoped>\n",
       "    .dataframe tbody tr th:only-of-type {\n",
       "        vertical-align: middle;\n",
       "    }\n",
       "\n",
       "    .dataframe tbody tr th {\n",
       "        vertical-align: top;\n",
       "    }\n",
       "\n",
       "    .dataframe thead th {\n",
       "        text-align: right;\n",
       "    }\n",
       "</style>\n",
       "<table border=\"1\" class=\"dataframe\">\n",
       "  <thead>\n",
       "    <tr style=\"text-align: right;\">\n",
       "      <th></th>\n",
       "      <th>DR_NO</th>\n",
       "      <th>Date Rptd</th>\n",
       "      <th>DATE OCC</th>\n",
       "      <th>TIME OCC</th>\n",
       "      <th>AREA</th>\n",
       "      <th>AREA NAME</th>\n",
       "      <th>Rpt Dist No</th>\n",
       "      <th>Part 1-2</th>\n",
       "      <th>Crm Cd</th>\n",
       "      <th>Crm Cd Desc</th>\n",
       "      <th>...</th>\n",
       "      <th>Status</th>\n",
       "      <th>Status Desc</th>\n",
       "      <th>Crm Cd 1</th>\n",
       "      <th>Crm Cd 2</th>\n",
       "      <th>Crm Cd 3</th>\n",
       "      <th>Crm Cd 4</th>\n",
       "      <th>LOCATION</th>\n",
       "      <th>Cross Street</th>\n",
       "      <th>LAT</th>\n",
       "      <th>LON</th>\n",
       "    </tr>\n",
       "  </thead>\n",
       "  <tbody>\n",
       "    <tr>\n",
       "      <th>0</th>\n",
       "      <td>190326475</td>\n",
       "      <td>03/01/2020 12:00:00 AM</td>\n",
       "      <td>03/01/2020 12:00:00 AM</td>\n",
       "      <td>2130</td>\n",
       "      <td>7</td>\n",
       "      <td>Wilshire</td>\n",
       "      <td>784</td>\n",
       "      <td>1</td>\n",
       "      <td>510</td>\n",
       "      <td>VEHICLE - STOLEN</td>\n",
       "      <td>...</td>\n",
       "      <td>AA</td>\n",
       "      <td>Adult Arrest</td>\n",
       "      <td>510.0</td>\n",
       "      <td>998.0</td>\n",
       "      <td>NaN</td>\n",
       "      <td>NaN</td>\n",
       "      <td>1900 S  LONGWOOD                     AV</td>\n",
       "      <td>NaN</td>\n",
       "      <td>34.0375</td>\n",
       "      <td>-118.3506</td>\n",
       "    </tr>\n",
       "    <tr>\n",
       "      <th>1</th>\n",
       "      <td>200106753</td>\n",
       "      <td>02/09/2020 12:00:00 AM</td>\n",
       "      <td>02/08/2020 12:00:00 AM</td>\n",
       "      <td>1800</td>\n",
       "      <td>1</td>\n",
       "      <td>Central</td>\n",
       "      <td>182</td>\n",
       "      <td>1</td>\n",
       "      <td>330</td>\n",
       "      <td>BURGLARY FROM VEHICLE</td>\n",
       "      <td>...</td>\n",
       "      <td>IC</td>\n",
       "      <td>Invest Cont</td>\n",
       "      <td>330.0</td>\n",
       "      <td>998.0</td>\n",
       "      <td>NaN</td>\n",
       "      <td>NaN</td>\n",
       "      <td>1000 S  FLOWER                       ST</td>\n",
       "      <td>NaN</td>\n",
       "      <td>34.0444</td>\n",
       "      <td>-118.2628</td>\n",
       "    </tr>\n",
       "    <tr>\n",
       "      <th>2</th>\n",
       "      <td>200320258</td>\n",
       "      <td>11/11/2020 12:00:00 AM</td>\n",
       "      <td>11/04/2020 12:00:00 AM</td>\n",
       "      <td>1700</td>\n",
       "      <td>3</td>\n",
       "      <td>Southwest</td>\n",
       "      <td>356</td>\n",
       "      <td>1</td>\n",
       "      <td>480</td>\n",
       "      <td>BIKE - STOLEN</td>\n",
       "      <td>...</td>\n",
       "      <td>IC</td>\n",
       "      <td>Invest Cont</td>\n",
       "      <td>480.0</td>\n",
       "      <td>NaN</td>\n",
       "      <td>NaN</td>\n",
       "      <td>NaN</td>\n",
       "      <td>1400 W  37TH                         ST</td>\n",
       "      <td>NaN</td>\n",
       "      <td>34.0210</td>\n",
       "      <td>-118.3002</td>\n",
       "    </tr>\n",
       "    <tr>\n",
       "      <th>3</th>\n",
       "      <td>200907217</td>\n",
       "      <td>05/10/2023 12:00:00 AM</td>\n",
       "      <td>03/10/2020 12:00:00 AM</td>\n",
       "      <td>2037</td>\n",
       "      <td>9</td>\n",
       "      <td>Van Nuys</td>\n",
       "      <td>964</td>\n",
       "      <td>1</td>\n",
       "      <td>343</td>\n",
       "      <td>SHOPLIFTING-GRAND THEFT ($950.01 &amp; OVER)</td>\n",
       "      <td>...</td>\n",
       "      <td>IC</td>\n",
       "      <td>Invest Cont</td>\n",
       "      <td>343.0</td>\n",
       "      <td>NaN</td>\n",
       "      <td>NaN</td>\n",
       "      <td>NaN</td>\n",
       "      <td>14000    RIVERSIDE                    DR</td>\n",
       "      <td>NaN</td>\n",
       "      <td>34.1576</td>\n",
       "      <td>-118.4387</td>\n",
       "    </tr>\n",
       "    <tr>\n",
       "      <th>4</th>\n",
       "      <td>200412582</td>\n",
       "      <td>09/09/2020 12:00:00 AM</td>\n",
       "      <td>09/09/2020 12:00:00 AM</td>\n",
       "      <td>630</td>\n",
       "      <td>4</td>\n",
       "      <td>Hollenbeck</td>\n",
       "      <td>413</td>\n",
       "      <td>1</td>\n",
       "      <td>510</td>\n",
       "      <td>VEHICLE - STOLEN</td>\n",
       "      <td>...</td>\n",
       "      <td>IC</td>\n",
       "      <td>Invest Cont</td>\n",
       "      <td>510.0</td>\n",
       "      <td>NaN</td>\n",
       "      <td>NaN</td>\n",
       "      <td>NaN</td>\n",
       "      <td>200 E  AVENUE 28</td>\n",
       "      <td>NaN</td>\n",
       "      <td>34.0820</td>\n",
       "      <td>-118.2130</td>\n",
       "    </tr>\n",
       "  </tbody>\n",
       "</table>\n",
       "<p>5 rows × 28 columns</p>\n",
       "</div>"
      ],
      "text/plain": [
       "       DR_NO               Date Rptd                DATE OCC  TIME OCC  AREA  \\\n",
       "0  190326475  03/01/2020 12:00:00 AM  03/01/2020 12:00:00 AM      2130     7   \n",
       "1  200106753  02/09/2020 12:00:00 AM  02/08/2020 12:00:00 AM      1800     1   \n",
       "2  200320258  11/11/2020 12:00:00 AM  11/04/2020 12:00:00 AM      1700     3   \n",
       "3  200907217  05/10/2023 12:00:00 AM  03/10/2020 12:00:00 AM      2037     9   \n",
       "4  200412582  09/09/2020 12:00:00 AM  09/09/2020 12:00:00 AM       630     4   \n",
       "\n",
       "    AREA NAME  Rpt Dist No  Part 1-2  Crm Cd  \\\n",
       "0    Wilshire          784         1     510   \n",
       "1     Central          182         1     330   \n",
       "2   Southwest          356         1     480   \n",
       "3    Van Nuys          964         1     343   \n",
       "4  Hollenbeck          413         1     510   \n",
       "\n",
       "                                Crm Cd Desc  ... Status   Status Desc  \\\n",
       "0                          VEHICLE - STOLEN  ...     AA  Adult Arrest   \n",
       "1                     BURGLARY FROM VEHICLE  ...     IC   Invest Cont   \n",
       "2                             BIKE - STOLEN  ...     IC   Invest Cont   \n",
       "3  SHOPLIFTING-GRAND THEFT ($950.01 & OVER)  ...     IC   Invest Cont   \n",
       "4                          VEHICLE - STOLEN  ...     IC   Invest Cont   \n",
       "\n",
       "  Crm Cd 1 Crm Cd 2  Crm Cd 3 Crm Cd 4  \\\n",
       "0    510.0    998.0       NaN      NaN   \n",
       "1    330.0    998.0       NaN      NaN   \n",
       "2    480.0      NaN       NaN      NaN   \n",
       "3    343.0      NaN       NaN      NaN   \n",
       "4    510.0      NaN       NaN      NaN   \n",
       "\n",
       "                                   LOCATION Cross Street      LAT       LON  \n",
       "0   1900 S  LONGWOOD                     AV          NaN  34.0375 -118.3506  \n",
       "1   1000 S  FLOWER                       ST          NaN  34.0444 -118.2628  \n",
       "2   1400 W  37TH                         ST          NaN  34.0210 -118.3002  \n",
       "3  14000    RIVERSIDE                    DR          NaN  34.1576 -118.4387  \n",
       "4                          200 E  AVENUE 28          NaN  34.0820 -118.2130  \n",
       "\n",
       "[5 rows x 28 columns]"
      ]
     },
     "execution_count": 257,
     "metadata": {},
     "output_type": "execute_result"
    }
   ],
   "source": [
    "crime_df.head()"
   ]
  },
  {
   "cell_type": "code",
   "execution_count": 258,
   "id": "9c9ea368-a39c-4602-b3fc-e34e4eebf07e",
   "metadata": {},
   "outputs": [
    {
     "data": {
      "text/plain": [
       "(1003448, 28)"
      ]
     },
     "execution_count": 258,
     "metadata": {},
     "output_type": "execute_result"
    }
   ],
   "source": [
    "crime_df.shape"
   ]
  },
  {
   "cell_type": "markdown",
   "id": "62b64673-00b0-4484-b72c-389e8148e2f8",
   "metadata": {},
   "source": [
    "The dataset has over one million rows, which means there will be plenty of data to investigate patterns in crime on different days, different times, the distribution of different kinds of crime etc. Before continuing to look at the data, I want to change the column names so it will be clearer what they mean. The source of the data on Kaggle has a description of each column which I can use to create more appropriate column titles."
   ]
  },
  {
   "cell_type": "code",
   "execution_count": 260,
   "id": "ae9a4fdd-4994-4dee-96b2-80183fe329ca",
   "metadata": {},
   "outputs": [
    {
     "data": {
      "text/html": [
       "<div>\n",
       "<style scoped>\n",
       "    .dataframe tbody tr th:only-of-type {\n",
       "        vertical-align: middle;\n",
       "    }\n",
       "\n",
       "    .dataframe tbody tr th {\n",
       "        vertical-align: top;\n",
       "    }\n",
       "\n",
       "    .dataframe thead th {\n",
       "        text-align: right;\n",
       "    }\n",
       "</style>\n",
       "<table border=\"1\" class=\"dataframe\">\n",
       "  <thead>\n",
       "    <tr style=\"text-align: right;\">\n",
       "      <th></th>\n",
       "      <th>Identifier</th>\n",
       "      <th>Date_Reported</th>\n",
       "      <th>Date_Occurred</th>\n",
       "      <th>Time_Occurred</th>\n",
       "      <th>Area_Code</th>\n",
       "      <th>Area_Name</th>\n",
       "      <th>District_Number</th>\n",
       "      <th>Crime_Severity</th>\n",
       "      <th>Crime_Type_Code</th>\n",
       "      <th>Crime_Desc</th>\n",
       "      <th>...</th>\n",
       "      <th>Crime_Status_Code</th>\n",
       "      <th>Crime_Status_Desc</th>\n",
       "      <th>Crime_Code_1</th>\n",
       "      <th>Crime_Code_2</th>\n",
       "      <th>Crime_Code_3</th>\n",
       "      <th>Crime_Code_4</th>\n",
       "      <th>Crime_Location</th>\n",
       "      <th>Cross_Street</th>\n",
       "      <th>Latitude</th>\n",
       "      <th>Longitude</th>\n",
       "    </tr>\n",
       "  </thead>\n",
       "  <tbody>\n",
       "    <tr>\n",
       "      <th>0</th>\n",
       "      <td>190326475</td>\n",
       "      <td>03/01/2020 12:00:00 AM</td>\n",
       "      <td>03/01/2020 12:00:00 AM</td>\n",
       "      <td>2130</td>\n",
       "      <td>7</td>\n",
       "      <td>Wilshire</td>\n",
       "      <td>784</td>\n",
       "      <td>1</td>\n",
       "      <td>510</td>\n",
       "      <td>VEHICLE - STOLEN</td>\n",
       "      <td>...</td>\n",
       "      <td>AA</td>\n",
       "      <td>Adult Arrest</td>\n",
       "      <td>510.0</td>\n",
       "      <td>998.0</td>\n",
       "      <td>NaN</td>\n",
       "      <td>NaN</td>\n",
       "      <td>1900 S  LONGWOOD                     AV</td>\n",
       "      <td>NaN</td>\n",
       "      <td>34.0375</td>\n",
       "      <td>-118.3506</td>\n",
       "    </tr>\n",
       "    <tr>\n",
       "      <th>1</th>\n",
       "      <td>200106753</td>\n",
       "      <td>02/09/2020 12:00:00 AM</td>\n",
       "      <td>02/08/2020 12:00:00 AM</td>\n",
       "      <td>1800</td>\n",
       "      <td>1</td>\n",
       "      <td>Central</td>\n",
       "      <td>182</td>\n",
       "      <td>1</td>\n",
       "      <td>330</td>\n",
       "      <td>BURGLARY FROM VEHICLE</td>\n",
       "      <td>...</td>\n",
       "      <td>IC</td>\n",
       "      <td>Invest Cont</td>\n",
       "      <td>330.0</td>\n",
       "      <td>998.0</td>\n",
       "      <td>NaN</td>\n",
       "      <td>NaN</td>\n",
       "      <td>1000 S  FLOWER                       ST</td>\n",
       "      <td>NaN</td>\n",
       "      <td>34.0444</td>\n",
       "      <td>-118.2628</td>\n",
       "    </tr>\n",
       "    <tr>\n",
       "      <th>2</th>\n",
       "      <td>200320258</td>\n",
       "      <td>11/11/2020 12:00:00 AM</td>\n",
       "      <td>11/04/2020 12:00:00 AM</td>\n",
       "      <td>1700</td>\n",
       "      <td>3</td>\n",
       "      <td>Southwest</td>\n",
       "      <td>356</td>\n",
       "      <td>1</td>\n",
       "      <td>480</td>\n",
       "      <td>BIKE - STOLEN</td>\n",
       "      <td>...</td>\n",
       "      <td>IC</td>\n",
       "      <td>Invest Cont</td>\n",
       "      <td>480.0</td>\n",
       "      <td>NaN</td>\n",
       "      <td>NaN</td>\n",
       "      <td>NaN</td>\n",
       "      <td>1400 W  37TH                         ST</td>\n",
       "      <td>NaN</td>\n",
       "      <td>34.0210</td>\n",
       "      <td>-118.3002</td>\n",
       "    </tr>\n",
       "    <tr>\n",
       "      <th>3</th>\n",
       "      <td>200907217</td>\n",
       "      <td>05/10/2023 12:00:00 AM</td>\n",
       "      <td>03/10/2020 12:00:00 AM</td>\n",
       "      <td>2037</td>\n",
       "      <td>9</td>\n",
       "      <td>Van Nuys</td>\n",
       "      <td>964</td>\n",
       "      <td>1</td>\n",
       "      <td>343</td>\n",
       "      <td>SHOPLIFTING-GRAND THEFT ($950.01 &amp; OVER)</td>\n",
       "      <td>...</td>\n",
       "      <td>IC</td>\n",
       "      <td>Invest Cont</td>\n",
       "      <td>343.0</td>\n",
       "      <td>NaN</td>\n",
       "      <td>NaN</td>\n",
       "      <td>NaN</td>\n",
       "      <td>14000    RIVERSIDE                    DR</td>\n",
       "      <td>NaN</td>\n",
       "      <td>34.1576</td>\n",
       "      <td>-118.4387</td>\n",
       "    </tr>\n",
       "    <tr>\n",
       "      <th>4</th>\n",
       "      <td>200412582</td>\n",
       "      <td>09/09/2020 12:00:00 AM</td>\n",
       "      <td>09/09/2020 12:00:00 AM</td>\n",
       "      <td>630</td>\n",
       "      <td>4</td>\n",
       "      <td>Hollenbeck</td>\n",
       "      <td>413</td>\n",
       "      <td>1</td>\n",
       "      <td>510</td>\n",
       "      <td>VEHICLE - STOLEN</td>\n",
       "      <td>...</td>\n",
       "      <td>IC</td>\n",
       "      <td>Invest Cont</td>\n",
       "      <td>510.0</td>\n",
       "      <td>NaN</td>\n",
       "      <td>NaN</td>\n",
       "      <td>NaN</td>\n",
       "      <td>200 E  AVENUE 28</td>\n",
       "      <td>NaN</td>\n",
       "      <td>34.0820</td>\n",
       "      <td>-118.2130</td>\n",
       "    </tr>\n",
       "  </tbody>\n",
       "</table>\n",
       "<p>5 rows × 28 columns</p>\n",
       "</div>"
      ],
      "text/plain": [
       "   Identifier           Date_Reported           Date_Occurred  Time_Occurred  \\\n",
       "0   190326475  03/01/2020 12:00:00 AM  03/01/2020 12:00:00 AM           2130   \n",
       "1   200106753  02/09/2020 12:00:00 AM  02/08/2020 12:00:00 AM           1800   \n",
       "2   200320258  11/11/2020 12:00:00 AM  11/04/2020 12:00:00 AM           1700   \n",
       "3   200907217  05/10/2023 12:00:00 AM  03/10/2020 12:00:00 AM           2037   \n",
       "4   200412582  09/09/2020 12:00:00 AM  09/09/2020 12:00:00 AM            630   \n",
       "\n",
       "   Area_Code   Area_Name  District_Number  Crime_Severity  Crime_Type_Code  \\\n",
       "0          7    Wilshire              784               1              510   \n",
       "1          1     Central              182               1              330   \n",
       "2          3   Southwest              356               1              480   \n",
       "3          9    Van Nuys              964               1              343   \n",
       "4          4  Hollenbeck              413               1              510   \n",
       "\n",
       "                                 Crime_Desc  ... Crime_Status_Code  \\\n",
       "0                          VEHICLE - STOLEN  ...                AA   \n",
       "1                     BURGLARY FROM VEHICLE  ...                IC   \n",
       "2                             BIKE - STOLEN  ...                IC   \n",
       "3  SHOPLIFTING-GRAND THEFT ($950.01 & OVER)  ...                IC   \n",
       "4                          VEHICLE - STOLEN  ...                IC   \n",
       "\n",
       "   Crime_Status_Desc Crime_Code_1 Crime_Code_2  Crime_Code_3 Crime_Code_4  \\\n",
       "0       Adult Arrest        510.0        998.0           NaN          NaN   \n",
       "1        Invest Cont        330.0        998.0           NaN          NaN   \n",
       "2        Invest Cont        480.0          NaN           NaN          NaN   \n",
       "3        Invest Cont        343.0          NaN           NaN          NaN   \n",
       "4        Invest Cont        510.0          NaN           NaN          NaN   \n",
       "\n",
       "                             Crime_Location Cross_Street Latitude Longitude  \n",
       "0   1900 S  LONGWOOD                     AV          NaN  34.0375 -118.3506  \n",
       "1   1000 S  FLOWER                       ST          NaN  34.0444 -118.2628  \n",
       "2   1400 W  37TH                         ST          NaN  34.0210 -118.3002  \n",
       "3  14000    RIVERSIDE                    DR          NaN  34.1576 -118.4387  \n",
       "4                          200 E  AVENUE 28          NaN  34.0820 -118.2130  \n",
       "\n",
       "[5 rows x 28 columns]"
      ]
     },
     "execution_count": 260,
     "metadata": {},
     "output_type": "execute_result"
    }
   ],
   "source": [
    "crime_df.columns = [\"Identifier\", \"Date_Reported\", \"Date_Occurred\", \"Time_Occurred\", \"Area_Code\", \"Area_Name\", \\\n",
    "                    \"District_Number\", \"Crime_Severity\", \"Crime_Type_Code\", \"Crime_Desc\", \"Crime_Method\", \\\n",
    "                    \"Victim_Age\", \"Victim_Gender\", \"Victim_Ethnicity\", \"Type_of_Premises_Code\", \\\n",
    "                    \"Type_of_Premises_Desc\", \"Weapon_Used\", \"Weapon_Desc\", \"Crime_Status_Code\", \n",
    "                    \"Crime_Status_Desc\", \"Crime_Code_1\", \"Crime_Code_2\", \"Crime_Code_3\", \"Crime_Code_4\", \\\n",
    "                    \"Crime_Location\", \"Cross_Street\", \"Latitude\", \"Longitude\"]\n",
    "crime_df.head()"
   ]
  },
  {
   "cell_type": "markdown",
   "id": "3f892c6a-c48e-4aef-a615-af07176ee73c",
   "metadata": {},
   "source": [
    "# Dealing with Missing Data"
   ]
  },
  {
   "cell_type": "code",
   "execution_count": 262,
   "id": "c4923aac-1de3-40ce-aa3d-afc94696c6bc",
   "metadata": {},
   "outputs": [
    {
     "data": {
      "text/plain": [
       "Identifier                     0\n",
       "Date_Reported                  0\n",
       "Date_Occurred                  0\n",
       "Time_Occurred                  0\n",
       "Area_Code                      0\n",
       "Area_Name                      0\n",
       "District_Number                0\n",
       "Crime_Severity                 0\n",
       "Crime_Type_Code                0\n",
       "Crime_Desc                     0\n",
       "Crime_Method              151567\n",
       "Victim_Age                     0\n",
       "Victim_Gender             144592\n",
       "Victim_Ethnicity          144604\n",
       "Type_of_Premises_Code         16\n",
       "Type_of_Premises_Desc        588\n",
       "Weapon_Used               676308\n",
       "Weapon_Desc               676308\n",
       "Crime_Status_Code              1\n",
       "Crime_Status_Desc              0\n",
       "Crime_Code_1                  11\n",
       "Crime_Code_2              934330\n",
       "Crime_Code_3             1001133\n",
       "Crime_Code_4             1003384\n",
       "Crime_Location                 0\n",
       "Cross_Street              849335\n",
       "Latitude                       0\n",
       "Longitude                      0\n",
       "dtype: int64"
      ]
     },
     "execution_count": 262,
     "metadata": {},
     "output_type": "execute_result"
    }
   ],
   "source": [
    "crime_df.isna().sum()"
   ]
  },
  {
   "cell_type": "markdown",
   "id": "cdaaee50-7911-4959-a8dc-e4a43f9a9ce1",
   "metadata": {},
   "source": [
    "Overall there is not much data missing from the dataset. Crime_Method, Victim_Age and Victim_Gender all have around 150k values missing, which is not a huge problem considering there are over a million rows in total. I won't remove these rows because they will likely still contain useful information about geographic distribution of crime etc. I will remove rows with Type_of_Premises_Code missing because there are only 16 rows missing and this will clean up the data with minimal impact."
   ]
  },
  {
   "cell_type": "code",
   "execution_count": 264,
   "id": "fd5a69b4-4d4d-44d1-bafe-e802feda7da4",
   "metadata": {},
   "outputs": [
    {
     "data": {
      "text/plain": [
       "572"
      ]
     },
     "execution_count": 264,
     "metadata": {},
     "output_type": "execute_result"
    }
   ],
   "source": [
    "crime_df = crime_df[crime_df[\"Type_of_Premises_Code\"].notna()]\n",
    "crime_df[\"Type_of_Premises_Desc\"].isna().sum()"
   ]
  },
  {
   "cell_type": "markdown",
   "id": "56ea5229-6d83-43fe-872d-1291750be1fe",
   "metadata": {},
   "source": [
    "There are still 572 missing values for Type_of_Premises_Desc. It is possible that I could get this information from Type_of_Premises_Code."
   ]
  },
  {
   "cell_type": "code",
   "execution_count": 266,
   "id": "73337d2c-43bf-4cb1-986d-9b8441a2a2bd",
   "metadata": {},
   "outputs": [
    {
     "data": {
      "text/plain": [
       "Type_of_Premises_Code\n",
       "418.0    372\n",
       "256.0    164\n",
       "972.0     15\n",
       "974.0     11\n",
       "973.0      7\n",
       "976.0      2\n",
       "975.0      1\n",
       "Name: count, dtype: int64"
      ]
     },
     "execution_count": 266,
     "metadata": {},
     "output_type": "execute_result"
    }
   ],
   "source": [
    "crime_df[crime_df[\"Type_of_Premises_Desc\"].isna()][\"Type_of_Premises_Code\"].value_counts()"
   ]
  },
  {
   "cell_type": "code",
   "execution_count": 267,
   "id": "839fa4e9-d3cd-46b5-b1cb-ff12b6cbda51",
   "metadata": {},
   "outputs": [
    {
     "name": "stdout",
     "output_type": "stream",
     "text": [
      "Series([], Name: count, dtype: int64)\n",
      "Series([], Name: count, dtype: int64)\n",
      "Series([], Name: count, dtype: int64)\n",
      "Series([], Name: count, dtype: int64)\n",
      "Series([], Name: count, dtype: int64)\n",
      "Series([], Name: count, dtype: int64)\n",
      "Series([], Name: count, dtype: int64)\n"
     ]
    }
   ],
   "source": [
    "for code in [418.0, 256.0, 972.0, 974.0, 973.0, 976.0, 975.0]:\n",
    "    print(crime_df.query(\"Type_of_Premises_Code == @code\")[\"Type_of_Premises_Desc\"].value_counts())"
   ]
  },
  {
   "cell_type": "markdown",
   "id": "5e25fff9-8466-4140-8723-2adaa02b173b",
   "metadata": {},
   "source": [
    "Unfortunately no information can be gained from Type_of_Premises_Code. So I will remove all rows with null values for Type_of_Premises_Desc."
   ]
  },
  {
   "cell_type": "code",
   "execution_count": 269,
   "id": "197757de-cae0-42c0-8030-0b3421802998",
   "metadata": {},
   "outputs": [],
   "source": [
    "crime_df = crime_df[crime_df[\"Type_of_Premises_Desc\"].notna()]"
   ]
  },
  {
   "cell_type": "markdown",
   "id": "85aecf10-948b-4ca6-b9d8-0831dfa8decf",
   "metadata": {},
   "source": [
    "Weapon_Used and Weapon_Desc both have almost 700k values missing. This represents a large proportion of the total dataset size, but 300k values is still plenty for analysis. So I will leave these columns for now. The Crime_Code columns allow for more then one crime code if there were multiple offenses in one crime. Having null values for the last 3 is expected, since most crimes only involve one offense, but the 11 missing values for Crime_Code_1 should be investigated."
   ]
  },
  {
   "cell_type": "code",
   "execution_count": 271,
   "id": "9a56932c-3d4b-4cf6-98ca-6b66ed6be455",
   "metadata": {},
   "outputs": [
    {
     "data": {
      "text/html": [
       "<div>\n",
       "<style scoped>\n",
       "    .dataframe tbody tr th:only-of-type {\n",
       "        vertical-align: middle;\n",
       "    }\n",
       "\n",
       "    .dataframe tbody tr th {\n",
       "        vertical-align: top;\n",
       "    }\n",
       "\n",
       "    .dataframe thead th {\n",
       "        text-align: right;\n",
       "    }\n",
       "</style>\n",
       "<table border=\"1\" class=\"dataframe\">\n",
       "  <thead>\n",
       "    <tr style=\"text-align: right;\">\n",
       "      <th></th>\n",
       "      <th>Identifier</th>\n",
       "      <th>Date_Reported</th>\n",
       "      <th>Date_Occurred</th>\n",
       "      <th>Time_Occurred</th>\n",
       "      <th>Area_Code</th>\n",
       "      <th>Area_Name</th>\n",
       "      <th>District_Number</th>\n",
       "      <th>Crime_Severity</th>\n",
       "      <th>Crime_Type_Code</th>\n",
       "      <th>Crime_Desc</th>\n",
       "      <th>...</th>\n",
       "      <th>Crime_Status_Code</th>\n",
       "      <th>Crime_Status_Desc</th>\n",
       "      <th>Crime_Code_1</th>\n",
       "      <th>Crime_Code_2</th>\n",
       "      <th>Crime_Code_3</th>\n",
       "      <th>Crime_Code_4</th>\n",
       "      <th>Crime_Location</th>\n",
       "      <th>Cross_Street</th>\n",
       "      <th>Latitude</th>\n",
       "      <th>Longitude</th>\n",
       "    </tr>\n",
       "  </thead>\n",
       "  <tbody>\n",
       "    <tr>\n",
       "      <th>5790</th>\n",
       "      <td>200112035</td>\n",
       "      <td>05/21/2020 12:00:00 AM</td>\n",
       "      <td>05/21/2020 12:00:00 AM</td>\n",
       "      <td>525</td>\n",
       "      <td>1</td>\n",
       "      <td>Central</td>\n",
       "      <td>163</td>\n",
       "      <td>2</td>\n",
       "      <td>740</td>\n",
       "      <td>VANDALISM - FELONY ($400 &amp; OVER, ALL CHURCH VA...</td>\n",
       "      <td>...</td>\n",
       "      <td>IC</td>\n",
       "      <td>Invest Cont</td>\n",
       "      <td>NaN</td>\n",
       "      <td>740.0</td>\n",
       "      <td>NaN</td>\n",
       "      <td>NaN</td>\n",
       "      <td>9TH</td>\n",
       "      <td>SPRING</td>\n",
       "      <td>34.0420</td>\n",
       "      <td>-118.2555</td>\n",
       "    </tr>\n",
       "    <tr>\n",
       "      <th>47724</th>\n",
       "      <td>200116522</td>\n",
       "      <td>08/17/2020 12:00:00 AM</td>\n",
       "      <td>08/17/2020 12:00:00 AM</td>\n",
       "      <td>545</td>\n",
       "      <td>1</td>\n",
       "      <td>Central</td>\n",
       "      <td>176</td>\n",
       "      <td>2</td>\n",
       "      <td>745</td>\n",
       "      <td>VANDALISM - MISDEAMEANOR ($399 OR UNDER)</td>\n",
       "      <td>...</td>\n",
       "      <td>IC</td>\n",
       "      <td>Invest Cont</td>\n",
       "      <td>NaN</td>\n",
       "      <td>745.0</td>\n",
       "      <td>NaN</td>\n",
       "      <td>NaN</td>\n",
       "      <td>800    SANTEE                       ST</td>\n",
       "      <td>NaN</td>\n",
       "      <td>34.0401</td>\n",
       "      <td>-118.2533</td>\n",
       "    </tr>\n",
       "    <tr>\n",
       "      <th>236992</th>\n",
       "      <td>211016055</td>\n",
       "      <td>12/26/2021 12:00:00 AM</td>\n",
       "      <td>12/25/2021 12:00:00 AM</td>\n",
       "      <td>2000</td>\n",
       "      <td>10</td>\n",
       "      <td>West Valley</td>\n",
       "      <td>1023</td>\n",
       "      <td>1</td>\n",
       "      <td>520</td>\n",
       "      <td>VEHICLE - ATTEMPT STOLEN</td>\n",
       "      <td>...</td>\n",
       "      <td>IC</td>\n",
       "      <td>Invest Cont</td>\n",
       "      <td>NaN</td>\n",
       "      <td>520.0</td>\n",
       "      <td>NaN</td>\n",
       "      <td>NaN</td>\n",
       "      <td>ARCHWOOD                     ST</td>\n",
       "      <td>WILBUR                       AV</td>\n",
       "      <td>34.1921</td>\n",
       "      <td>-118.5447</td>\n",
       "    </tr>\n",
       "    <tr>\n",
       "      <th>350446</th>\n",
       "      <td>210118616</td>\n",
       "      <td>10/13/2021 12:00:00 AM</td>\n",
       "      <td>10/13/2021 12:00:00 AM</td>\n",
       "      <td>1840</td>\n",
       "      <td>1</td>\n",
       "      <td>Central</td>\n",
       "      <td>162</td>\n",
       "      <td>1</td>\n",
       "      <td>442</td>\n",
       "      <td>SHOPLIFTING - PETTY THEFT ($950 &amp; UNDER)</td>\n",
       "      <td>...</td>\n",
       "      <td>IC</td>\n",
       "      <td>Invest Cont</td>\n",
       "      <td>NaN</td>\n",
       "      <td>442.0</td>\n",
       "      <td>NaN</td>\n",
       "      <td>NaN</td>\n",
       "      <td>700 W  7TH                          ST</td>\n",
       "      <td>NaN</td>\n",
       "      <td>34.0480</td>\n",
       "      <td>-118.2577</td>\n",
       "    </tr>\n",
       "    <tr>\n",
       "      <th>432346</th>\n",
       "      <td>221701255</td>\n",
       "      <td>12/08/2022 12:00:00 AM</td>\n",
       "      <td>12/08/2022 12:00:00 AM</td>\n",
       "      <td>2138</td>\n",
       "      <td>17</td>\n",
       "      <td>Devonshire</td>\n",
       "      <td>1799</td>\n",
       "      <td>2</td>\n",
       "      <td>890</td>\n",
       "      <td>FAILURE TO YIELD</td>\n",
       "      <td>...</td>\n",
       "      <td>IC</td>\n",
       "      <td>Invest Cont</td>\n",
       "      <td>NaN</td>\n",
       "      <td>890.0</td>\n",
       "      <td>NaN</td>\n",
       "      <td>NaN</td>\n",
       "      <td>AQUEDUCT                     AV</td>\n",
       "      <td>NORDHOFF                     ST</td>\n",
       "      <td>34.2249</td>\n",
       "      <td>-118.4792</td>\n",
       "    </tr>\n",
       "    <tr>\n",
       "      <th>495761</th>\n",
       "      <td>220509912</td>\n",
       "      <td>06/06/2022 12:00:00 AM</td>\n",
       "      <td>06/06/2022 12:00:00 AM</td>\n",
       "      <td>2000</td>\n",
       "      <td>5</td>\n",
       "      <td>Harbor</td>\n",
       "      <td>526</td>\n",
       "      <td>2</td>\n",
       "      <td>888</td>\n",
       "      <td>TRESPASSING</td>\n",
       "      <td>...</td>\n",
       "      <td>IC</td>\n",
       "      <td>Invest Cont</td>\n",
       "      <td>NaN</td>\n",
       "      <td>888.0</td>\n",
       "      <td>NaN</td>\n",
       "      <td>NaN</td>\n",
       "      <td>900 N  FRIES                        AV</td>\n",
       "      <td>NaN</td>\n",
       "      <td>33.7815</td>\n",
       "      <td>-118.2650</td>\n",
       "    </tr>\n",
       "    <tr>\n",
       "      <th>508440</th>\n",
       "      <td>220805565</td>\n",
       "      <td>02/09/2022 12:00:00 AM</td>\n",
       "      <td>02/09/2022 12:00:00 AM</td>\n",
       "      <td>245</td>\n",
       "      <td>8</td>\n",
       "      <td>West LA</td>\n",
       "      <td>842</td>\n",
       "      <td>2</td>\n",
       "      <td>888</td>\n",
       "      <td>TRESPASSING</td>\n",
       "      <td>...</td>\n",
       "      <td>IC</td>\n",
       "      <td>Invest Cont</td>\n",
       "      <td>NaN</td>\n",
       "      <td>888.0</td>\n",
       "      <td>NaN</td>\n",
       "      <td>NaN</td>\n",
       "      <td>11700    WILSHIRE                     BL</td>\n",
       "      <td>NaN</td>\n",
       "      <td>34.0495</td>\n",
       "      <td>-118.4609</td>\n",
       "    </tr>\n",
       "    <tr>\n",
       "      <th>694430</th>\n",
       "      <td>230114704</td>\n",
       "      <td>06/22/2023 12:00:00 AM</td>\n",
       "      <td>06/22/2023 12:00:00 AM</td>\n",
       "      <td>1801</td>\n",
       "      <td>1</td>\n",
       "      <td>Central</td>\n",
       "      <td>162</td>\n",
       "      <td>1</td>\n",
       "      <td>442</td>\n",
       "      <td>SHOPLIFTING - PETTY THEFT ($950 &amp; UNDER)</td>\n",
       "      <td>...</td>\n",
       "      <td>IC</td>\n",
       "      <td>Invest Cont</td>\n",
       "      <td>NaN</td>\n",
       "      <td>442.0</td>\n",
       "      <td>NaN</td>\n",
       "      <td>NaN</td>\n",
       "      <td>700 S  FLOWER                       ST</td>\n",
       "      <td>NaN</td>\n",
       "      <td>34.0487</td>\n",
       "      <td>-118.2588</td>\n",
       "    </tr>\n",
       "    <tr>\n",
       "      <th>705361</th>\n",
       "      <td>230123939</td>\n",
       "      <td>11/13/2023 12:00:00 AM</td>\n",
       "      <td>11/12/2023 12:00:00 AM</td>\n",
       "      <td>2300</td>\n",
       "      <td>1</td>\n",
       "      <td>Central</td>\n",
       "      <td>162</td>\n",
       "      <td>1</td>\n",
       "      <td>330</td>\n",
       "      <td>BURGLARY FROM VEHICLE</td>\n",
       "      <td>...</td>\n",
       "      <td>IC</td>\n",
       "      <td>Invest Cont</td>\n",
       "      <td>NaN</td>\n",
       "      <td>330.0</td>\n",
       "      <td>NaN</td>\n",
       "      <td>NaN</td>\n",
       "      <td>800 S  HILL                         ST</td>\n",
       "      <td>NaN</td>\n",
       "      <td>34.0462</td>\n",
       "      <td>-118.2585</td>\n",
       "    </tr>\n",
       "    <tr>\n",
       "      <th>801472</th>\n",
       "      <td>230106125</td>\n",
       "      <td>02/01/2023 12:00:00 AM</td>\n",
       "      <td>02/01/2023 12:00:00 AM</td>\n",
       "      <td>1855</td>\n",
       "      <td>1</td>\n",
       "      <td>Central</td>\n",
       "      <td>129</td>\n",
       "      <td>1</td>\n",
       "      <td>330</td>\n",
       "      <td>BURGLARY FROM VEHICLE</td>\n",
       "      <td>...</td>\n",
       "      <td>IC</td>\n",
       "      <td>Invest Cont</td>\n",
       "      <td>NaN</td>\n",
       "      <td>330.0</td>\n",
       "      <td>NaN</td>\n",
       "      <td>NaN</td>\n",
       "      <td>GAREY</td>\n",
       "      <td>JACKSON</td>\n",
       "      <td>34.0513</td>\n",
       "      <td>-118.2344</td>\n",
       "    </tr>\n",
       "    <tr>\n",
       "      <th>873795</th>\n",
       "      <td>230114706</td>\n",
       "      <td>06/22/2023 12:00:00 AM</td>\n",
       "      <td>06/22/2023 12:00:00 AM</td>\n",
       "      <td>1550</td>\n",
       "      <td>1</td>\n",
       "      <td>Central</td>\n",
       "      <td>155</td>\n",
       "      <td>2</td>\n",
       "      <td>623</td>\n",
       "      <td>BATTERY POLICE (SIMPLE)</td>\n",
       "      <td>...</td>\n",
       "      <td>IC</td>\n",
       "      <td>Invest Cont</td>\n",
       "      <td>NaN</td>\n",
       "      <td>623.0</td>\n",
       "      <td>NaN</td>\n",
       "      <td>NaN</td>\n",
       "      <td>200 E  6TH                          ST</td>\n",
       "      <td>NaN</td>\n",
       "      <td>34.0448</td>\n",
       "      <td>-118.2474</td>\n",
       "    </tr>\n",
       "  </tbody>\n",
       "</table>\n",
       "<p>11 rows × 28 columns</p>\n",
       "</div>"
      ],
      "text/plain": [
       "        Identifier           Date_Reported           Date_Occurred  \\\n",
       "5790     200112035  05/21/2020 12:00:00 AM  05/21/2020 12:00:00 AM   \n",
       "47724    200116522  08/17/2020 12:00:00 AM  08/17/2020 12:00:00 AM   \n",
       "236992   211016055  12/26/2021 12:00:00 AM  12/25/2021 12:00:00 AM   \n",
       "350446   210118616  10/13/2021 12:00:00 AM  10/13/2021 12:00:00 AM   \n",
       "432346   221701255  12/08/2022 12:00:00 AM  12/08/2022 12:00:00 AM   \n",
       "495761   220509912  06/06/2022 12:00:00 AM  06/06/2022 12:00:00 AM   \n",
       "508440   220805565  02/09/2022 12:00:00 AM  02/09/2022 12:00:00 AM   \n",
       "694430   230114704  06/22/2023 12:00:00 AM  06/22/2023 12:00:00 AM   \n",
       "705361   230123939  11/13/2023 12:00:00 AM  11/12/2023 12:00:00 AM   \n",
       "801472   230106125  02/01/2023 12:00:00 AM  02/01/2023 12:00:00 AM   \n",
       "873795   230114706  06/22/2023 12:00:00 AM  06/22/2023 12:00:00 AM   \n",
       "\n",
       "        Time_Occurred  Area_Code    Area_Name  District_Number  \\\n",
       "5790              525          1      Central              163   \n",
       "47724             545          1      Central              176   \n",
       "236992           2000         10  West Valley             1023   \n",
       "350446           1840          1      Central              162   \n",
       "432346           2138         17   Devonshire             1799   \n",
       "495761           2000          5       Harbor              526   \n",
       "508440            245          8      West LA              842   \n",
       "694430           1801          1      Central              162   \n",
       "705361           2300          1      Central              162   \n",
       "801472           1855          1      Central              129   \n",
       "873795           1550          1      Central              155   \n",
       "\n",
       "        Crime_Severity  Crime_Type_Code  \\\n",
       "5790                 2              740   \n",
       "47724                2              745   \n",
       "236992               1              520   \n",
       "350446               1              442   \n",
       "432346               2              890   \n",
       "495761               2              888   \n",
       "508440               2              888   \n",
       "694430               1              442   \n",
       "705361               1              330   \n",
       "801472               1              330   \n",
       "873795               2              623   \n",
       "\n",
       "                                               Crime_Desc  ...  \\\n",
       "5790    VANDALISM - FELONY ($400 & OVER, ALL CHURCH VA...  ...   \n",
       "47724            VANDALISM - MISDEAMEANOR ($399 OR UNDER)  ...   \n",
       "236992                           VEHICLE - ATTEMPT STOLEN  ...   \n",
       "350446           SHOPLIFTING - PETTY THEFT ($950 & UNDER)  ...   \n",
       "432346                                   FAILURE TO YIELD  ...   \n",
       "495761                                        TRESPASSING  ...   \n",
       "508440                                        TRESPASSING  ...   \n",
       "694430           SHOPLIFTING - PETTY THEFT ($950 & UNDER)  ...   \n",
       "705361                              BURGLARY FROM VEHICLE  ...   \n",
       "801472                              BURGLARY FROM VEHICLE  ...   \n",
       "873795                            BATTERY POLICE (SIMPLE)  ...   \n",
       "\n",
       "       Crime_Status_Code  Crime_Status_Desc Crime_Code_1 Crime_Code_2  \\\n",
       "5790                  IC        Invest Cont          NaN        740.0   \n",
       "47724                 IC        Invest Cont          NaN        745.0   \n",
       "236992                IC        Invest Cont          NaN        520.0   \n",
       "350446                IC        Invest Cont          NaN        442.0   \n",
       "432346                IC        Invest Cont          NaN        890.0   \n",
       "495761                IC        Invest Cont          NaN        888.0   \n",
       "508440                IC        Invest Cont          NaN        888.0   \n",
       "694430                IC        Invest Cont          NaN        442.0   \n",
       "705361                IC        Invest Cont          NaN        330.0   \n",
       "801472                IC        Invest Cont          NaN        330.0   \n",
       "873795                IC        Invest Cont          NaN        623.0   \n",
       "\n",
       "        Crime_Code_3 Crime_Code_4                            Crime_Location  \\\n",
       "5790             NaN          NaN                                       9TH   \n",
       "47724            NaN          NaN    800    SANTEE                       ST   \n",
       "236992           NaN          NaN           ARCHWOOD                     ST   \n",
       "350446           NaN          NaN    700 W  7TH                          ST   \n",
       "432346           NaN          NaN           AQUEDUCT                     AV   \n",
       "495761           NaN          NaN    900 N  FRIES                        AV   \n",
       "508440           NaN          NaN  11700    WILSHIRE                     BL   \n",
       "694430           NaN          NaN    700 S  FLOWER                       ST   \n",
       "705361           NaN          NaN    800 S  HILL                         ST   \n",
       "801472           NaN          NaN                                     GAREY   \n",
       "873795           NaN          NaN    200 E  6TH                          ST   \n",
       "\n",
       "                           Cross_Street Latitude Longitude  \n",
       "5790                             SPRING  34.0420 -118.2555  \n",
       "47724                               NaN  34.0401 -118.2533  \n",
       "236992  WILBUR                       AV  34.1921 -118.5447  \n",
       "350446                              NaN  34.0480 -118.2577  \n",
       "432346  NORDHOFF                     ST  34.2249 -118.4792  \n",
       "495761                              NaN  33.7815 -118.2650  \n",
       "508440                              NaN  34.0495 -118.4609  \n",
       "694430                              NaN  34.0487 -118.2588  \n",
       "705361                              NaN  34.0462 -118.2585  \n",
       "801472                          JACKSON  34.0513 -118.2344  \n",
       "873795                              NaN  34.0448 -118.2474  \n",
       "\n",
       "[11 rows x 28 columns]"
      ]
     },
     "execution_count": 271,
     "metadata": {},
     "output_type": "execute_result"
    }
   ],
   "source": [
    "crime_df[crime_df[\"Crime_Code_1\"].isna()]"
   ]
  },
  {
   "cell_type": "markdown",
   "id": "c6183a31-fca3-4566-8c14-7ba88dc07cb3",
   "metadata": {},
   "source": [
    "Each of these crimes involved just one offense which was put in Crime_Code_2. This was probably a mistake made by whoever was responsible for entering the information into the system. I will move the values from Crime_Code_2 into Crime_Code_1."
   ]
  },
  {
   "cell_type": "code",
   "execution_count": 273,
   "id": "26b071b8-3ca9-477e-912c-10cefa5445fd",
   "metadata": {},
   "outputs": [],
   "source": [
    "idx = crime_df[\"Crime_Code_1\"].isna()\n",
    "crime_df.loc[idx] = crime_df.loc[idx].rename(columns={\"Crime_Code_1\": \"Crime_Code_2\", \"Crime_Code_2\": \"Crime_Code_1\"})"
   ]
  },
  {
   "cell_type": "markdown",
   "id": "37ae5000-35e9-4cef-82ea-a82994bca468",
   "metadata": {},
   "source": [
    "Finally, Cross_Street has around 850k values missing. This is a considerable amount of missing data but I will leave it for now. It isn't very useful so will probably be removed along with other columns I don't need."
   ]
  },
  {
   "cell_type": "code",
   "execution_count": 275,
   "id": "2ef733c0-20b4-4a66-8843-819cd7aeaf6a",
   "metadata": {},
   "outputs": [
    {
     "data": {
      "text/plain": [
       "(1002860, 28)"
      ]
     },
     "execution_count": 275,
     "metadata": {},
     "output_type": "execute_result"
    }
   ],
   "source": [
    "crime_df.shape"
   ]
  },
  {
   "cell_type": "markdown",
   "id": "a97b3b1d-c7df-4b47-a592-d95361f81bba",
   "metadata": {},
   "source": [
    "The total number of entries in the dataset has been reduced from 1,003,448 to 1,002,860. Only around 600 rows were removed, which means the original dataset was already very good. Now I will look at the columns and see if there are any I want to remove straight away."
   ]
  },
  {
   "cell_type": "markdown",
   "id": "e2db9c8b-9d3f-484e-be0e-68c570bdaf72",
   "metadata": {},
   "source": [
    "# Removing Unncessary Columns"
   ]
  },
  {
   "cell_type": "code",
   "execution_count": 278,
   "id": "553fa204-d55e-4559-8a11-ea27d88dfb7b",
   "metadata": {},
   "outputs": [
    {
     "data": {
      "text/plain": [
       "Index(['Identifier', 'Date_Reported', 'Date_Occurred', 'Time_Occurred',\n",
       "       'Area_Code', 'Area_Name', 'District_Number', 'Crime_Severity',\n",
       "       'Crime_Type_Code', 'Crime_Desc', 'Crime_Method', 'Victim_Age',\n",
       "       'Victim_Gender', 'Victim_Ethnicity', 'Type_of_Premises_Code',\n",
       "       'Type_of_Premises_Desc', 'Weapon_Used', 'Weapon_Desc',\n",
       "       'Crime_Status_Code', 'Crime_Status_Desc', 'Crime_Code_1',\n",
       "       'Crime_Code_2', 'Crime_Code_3', 'Crime_Code_4', 'Crime_Location',\n",
       "       'Cross_Street', 'Latitude', 'Longitude'],\n",
       "      dtype='object')"
      ]
     },
     "execution_count": 278,
     "metadata": {},
     "output_type": "execute_result"
    }
   ],
   "source": [
    "crime_df.columns"
   ]
  },
  {
   "cell_type": "markdown",
   "id": "c38f8a70-2ef2-4c9e-beb3-6bed2fe8ee6c",
   "metadata": {},
   "source": [
    "The Identifier column is probably useful for the organisation that produced the data but does not help me. It will be easier to use the id that Pandas automatically creates for the data."
   ]
  },
  {
   "cell_type": "code",
   "execution_count": 280,
   "id": "59362c21-19df-4198-8202-ef04781e34a4",
   "metadata": {},
   "outputs": [],
   "source": [
    "crime_df = crime_df.drop(\"Identifier\", axis=1)"
   ]
  },
  {
   "cell_type": "markdown",
   "id": "853dbe29-c77a-464a-9038-6e26d5d95354",
   "metadata": {},
   "source": [
    "### Geographical Columns"
   ]
  },
  {
   "cell_type": "markdown",
   "id": "b79cfc10-5bbd-4a5e-aa14-45553ed3f6f1",
   "metadata": {},
   "source": [
    "Date_Reported, Date_Occurred and Time_Occurred are all useful information. In terms of geographical information, there are these columns: Area_Code, Area_Name, District_Number, Crime_Location, Cross_Street, Latitude, Longitude. Latitude and Longitude will be most important for mapping the data in Tableau. I want to see what values Area_Name takes on."
   ]
  },
  {
   "cell_type": "code",
   "execution_count": 283,
   "id": "781b0963-174a-436c-bbf3-bc426af4323e",
   "metadata": {},
   "outputs": [
    {
     "data": {
      "text/plain": [
       "Area_Name\n",
       "Central        69525\n",
       "77th Street    61637\n",
       "Pacific        59298\n",
       "Southwest      57313\n",
       "Hollywood      52331\n",
       "N Hollywood    50986\n",
       "Olympic        49984\n",
       "Southeast      49886\n",
       "Newton         49009\n",
       "Wilshire       48116\n",
       "Rampart        46767\n",
       "West LA        45663\n",
       "Northeast      42849\n",
       "Van Nuys       42798\n",
       "West Valley    42073\n",
       "Devonshire     41657\n",
       "Harbor         41292\n",
       "Topanga        41286\n",
       "Mission        40283\n",
       "Hollenbeck     37025\n",
       "Foothill       33082\n",
       "Name: count, dtype: int64"
      ]
     },
     "execution_count": 283,
     "metadata": {},
     "output_type": "execute_result"
    }
   ],
   "source": [
    "crime_df[\"Area_Name\"].value_counts()"
   ]
  },
  {
   "cell_type": "markdown",
   "id": "876eebdc-06ca-4b97-9d08-902edb8dd2e7",
   "metadata": {},
   "source": [
    "There aren't too many area names and they all have a decent amount of data, so it could be useful for analysing which neighbourhoods have higher crime rates, for example. Area_Code is redundant so I will remove that column."
   ]
  },
  {
   "cell_type": "code",
   "execution_count": 285,
   "id": "ee11e4d0-495c-4e60-846c-87331138b741",
   "metadata": {},
   "outputs": [],
   "source": [
    "crime_df = crime_df.drop(\"Area_Code\", axis=1)"
   ]
  },
  {
   "cell_type": "markdown",
   "id": "b71360e3-fe15-43bb-b7e8-12b44a5d9cb5",
   "metadata": {},
   "source": [
    "District_Number represents the district of the department that responded to the crime. This could be useful for analysing which departments have to deal with more crimes and if this changes over time, and therefore which districts should receieve more funding etc."
   ]
  },
  {
   "cell_type": "code",
   "execution_count": 287,
   "id": "a93bae4f-dd62-43af-80f6-4ccc5be9cff0",
   "metadata": {},
   "outputs": [
    {
     "data": {
      "text/plain": [
       "Crime_Location\n",
       "800 N  ALAMEDA                      ST      2597\n",
       "700 S  FIGUEROA                     ST      1705\n",
       "100    THE GROVE                    DR      1668\n",
       "10200    SANTA MONICA                 BL    1652\n",
       "6TH                          ST             1585\n",
       "                                            ... \n",
       "9800    OMELVENY                     ST        1\n",
       "02400    MARIONDALE                   AV       1\n",
       "15400    COPPER                       ST       1\n",
       "4200    TOSCA                        RD        1\n",
       "12200    ART                          ST       1\n",
       "Name: count, Length: 66544, dtype: int64"
      ]
     },
     "execution_count": 287,
     "metadata": {},
     "output_type": "execute_result"
    }
   ],
   "source": [
    "crime_df[\"Crime_Location\"].value_counts()"
   ]
  },
  {
   "cell_type": "code",
   "execution_count": 288,
   "id": "9f48f7f8-6569-476f-b2da-6526ed97c4e0",
   "metadata": {},
   "outputs": [
    {
     "data": {
      "text/plain": [
       "Cross_Street\n",
       "BROADWAY                           2486\n",
       "FIGUEROA                     ST    1933\n",
       "FIGUEROA                           1646\n",
       "VERMONT                      AV    1633\n",
       "WESTERN                      AV    1489\n",
       "                                   ... \n",
       "GOULD                        AV       1\n",
       "MARTIN LURTH                          1\n",
       "INGRAHAM                     AV       1\n",
       "ALVERN                       AV       1\n",
       "LUCERNE                      ST       1\n",
       "Name: count, Length: 10404, dtype: int64"
      ]
     },
     "execution_count": 288,
     "metadata": {},
     "output_type": "execute_result"
    }
   ],
   "source": [
    "crime_df[\"Cross_Street\"].value_counts()"
   ]
  },
  {
   "cell_type": "markdown",
   "id": "85826988-ac45-409d-8c7b-baf42f30d55c",
   "metadata": {},
   "source": [
    "Crime_Location and Cross_Street represent very detailed geographical location and have lots of values which only occur once or a few times. This makes it hard to find use for these columns, and Longitude and Latitude already provide detailed geographic information. So I will remove these two columns."
   ]
  },
  {
   "cell_type": "code",
   "execution_count": 290,
   "id": "b2cbf0ca-9c6a-41ee-9ab4-75b24c8a660f",
   "metadata": {},
   "outputs": [],
   "source": [
    "crime_df = crime_df.drop([\"Crime_Location\", \"Cross_Street\"], axis=1)"
   ]
  },
  {
   "cell_type": "markdown",
   "id": "d6cc1450-ba80-4998-bbbf-fee410d59cd6",
   "metadata": {},
   "source": [
    "### Columns Describing the Nature of the Crime"
   ]
  },
  {
   "cell_type": "markdown",
   "id": "2662d905-e60d-4c21-a795-d4f9c83344d2",
   "metadata": {},
   "source": [
    "There are some more columns that describe the nature of the crime: Crime_Severity, Crime_Type_Code, Crime_Desc, Crime_Method, Weapon_Used, Weapon_Desc, and the Crime_Code columns. Firstly, Crime_Type_Code and Weapon_Used are redundant and can be removed."
   ]
  },
  {
   "cell_type": "code",
   "execution_count": 293,
   "id": "00a59f95-704b-467f-a668-960055578a9d",
   "metadata": {},
   "outputs": [],
   "source": [
    "crime_df = crime_df.drop([\"Crime_Type_Code\", \"Weapon_Used\"], axis=1)"
   ]
  },
  {
   "cell_type": "markdown",
   "id": "f45d5892-bb4f-4aa9-b993-4367fd4a703b",
   "metadata": {},
   "source": [
    "Now I want to see what kinds of values the other columns take on."
   ]
  },
  {
   "cell_type": "code",
   "execution_count": 295,
   "id": "3e4cb57e-6096-49f3-b639-c1dcef99e9da",
   "metadata": {},
   "outputs": [
    {
     "data": {
      "text/plain": [
       "Crime_Severity\n",
       "1    601027\n",
       "2    401833\n",
       "Name: count, dtype: int64"
      ]
     },
     "execution_count": 295,
     "metadata": {},
     "output_type": "execute_result"
    }
   ],
   "source": [
    "crime_df[\"Crime_Severity\"].value_counts()"
   ]
  },
  {
   "cell_type": "markdown",
   "id": "40ff5d8d-ecba-4863-97cf-1cb2c5228cd2",
   "metadata": {},
   "source": [
    "Going back to Kaggle, I can see that 1 represents serious crimes and 2 represents less serious crimes. This could be useful information."
   ]
  },
  {
   "cell_type": "code",
   "execution_count": 297,
   "id": "a7fd1036-eb77-445b-bb90-c6e48194fbd0",
   "metadata": {},
   "outputs": [
    {
     "data": {
      "text/plain": [
       "Crime_Desc\n",
       "VEHICLE - STOLEN                                           115182\n",
       "BATTERY - SIMPLE ASSAULT                                    74798\n",
       "BURGLARY FROM VEHICLE                                       63259\n",
       "THEFT OF IDENTITY                                           62407\n",
       "VANDALISM - FELONY ($400 & OVER, ALL CHURCH VANDALISMS)     60950\n",
       "                                                            ...  \n",
       "FIREARMS EMERGENCY PROTECTIVE ORDER (FIREARMS EPO)              5\n",
       "FIREARMS RESTRAINING ORDER (FIREARMS RO)                        4\n",
       "DISHONEST EMPLOYEE ATTEMPTED THEFT                              4\n",
       "TRAIN WRECKING                                                  1\n",
       "DRUNK ROLL - ATTEMPT                                            1\n",
       "Name: count, Length: 140, dtype: int64"
      ]
     },
     "execution_count": 297,
     "metadata": {},
     "output_type": "execute_result"
    }
   ],
   "source": [
    "crime_df[\"Crime_Desc\"].value_counts()"
   ]
  },
  {
   "cell_type": "markdown",
   "id": "3e61b920-98db-445e-a085-568d436e4802",
   "metadata": {},
   "source": [
    "Again this is very useful information to analyse the types of crime that are committed. For values that only have a few entries, it might be worth changing their value to \"Other\" since there is too little information about them, but that is a job for later."
   ]
  },
  {
   "cell_type": "code",
   "execution_count": 299,
   "id": "14109f45-a6d5-45b1-bb68-0b2b36052231",
   "metadata": {},
   "outputs": [
    {
     "data": {
      "text/plain": [
       "Crime_Method\n",
       "0344                                                 42176\n",
       "0329                                                 21581\n",
       "1822 0344                                            14169\n",
       "0325                                                 10300\n",
       "1501                                                  9809\n",
       "                                                     ...  \n",
       "0449 0337 1822                                           1\n",
       "1822 1906 0701                                           1\n",
       "2000 0400 0416 0913 1814 0446 0417 0381 1414             1\n",
       "1822 0216 0329 0334 0352 0421 1601 0382 1402 0344        1\n",
       "2047 0400 0429 0444 1202 1822                            1\n",
       "Name: count, Length: 310294, dtype: int64"
      ]
     },
     "execution_count": 299,
     "metadata": {},
     "output_type": "execute_result"
    }
   ],
   "source": [
    "crime_df[\"Crime_Method\"].value_counts()"
   ]
  },
  {
   "cell_type": "markdown",
   "id": "84ac76f0-fd22-4f8c-896d-43ec3eedf576",
   "metadata": {},
   "source": [
    "Looking back at the dataset description on Kaggle, these are the modus operandi codes that show in more detail how the crime occured. For example, the 0329 that appears quite a lot represents \"vandalised\". A long list of codes could be used to analyse the exact way the crime was carried out, but this is a different kind of analysis to the one I want to do. So I will remove this column from the dataset."
   ]
  },
  {
   "cell_type": "code",
   "execution_count": 301,
   "id": "18384c6d-d9a9-4480-b91e-beb703de4c12",
   "metadata": {},
   "outputs": [
    {
     "data": {
      "text/plain": [
       "Weapon_Desc\n",
       "STRONG-ARM (HANDS, FIST, FEET OR BODILY FORCE)    174672\n",
       "UNKNOWN WEAPON/OTHER WEAPON                        36308\n",
       "VERBAL THREAT                                      23834\n",
       "HAND GUN                                           20135\n",
       "SEMI-AUTOMATIC PISTOL                               7242\n",
       "                                                   ...  \n",
       "MAC-11 SEMIAUTOMATIC ASSAULT WEAPON                    3\n",
       "MAC-10 SEMIAUTOMATIC ASSAULT WEAPON                    2\n",
       "HECKLER & KOCH 91 SEMIAUTOMATIC ASSAULT RIFLE          2\n",
       "M-14 SEMIAUTOMATIC ASSAULT RIFLE                       2\n",
       "M1-1 SEMIAUTOMATIC ASSAULT RIFLE                       1\n",
       "Name: count, Length: 79, dtype: int64"
      ]
     },
     "execution_count": 301,
     "metadata": {},
     "output_type": "execute_result"
    }
   ],
   "source": [
    "crime_df = crime_df.drop(\"Crime_Method\", axis=1)\n",
    "crime_df[\"Weapon_Desc\"].value_counts()"
   ]
  },
  {
   "cell_type": "markdown",
   "id": "4bda9f87-4325-4e14-b433-ab6d5bb7d40c",
   "metadata": {},
   "source": [
    "The Weapon_Desc is a useful feature to analyse, similar to Crime_Desc. The final columns related to the actual crime to consider are the Crime_Code columns. According to Kaggle, the Crime_Code_1 column is actually the same as the Crime_Type_Code column that I removed earlier. The other Crime_Code columns are there to record additional offenses in the same crime. So Crime_Code_1 can definitely be removed since it is redundant. I want to check how many values there are for the other columns."
   ]
  },
  {
   "cell_type": "code",
   "execution_count": 303,
   "id": "8fdde0cc-f041-47bf-af71-a467da385fec",
   "metadata": {},
   "outputs": [
    {
     "name": "stdout",
     "output_type": "stream",
     "text": [
      "Crime_Code_2: 68960 non-null values\n",
      "Crime_Code_3: 2315 non-null values\n",
      "Crime_Code_4: 64 non-null values\n"
     ]
    }
   ],
   "source": [
    "print(\"Crime_Code_2:\", crime_df[\"Crime_Code_2\"].notna().sum(), \"non-null values\")\n",
    "print(\"Crime_Code_3:\", crime_df[\"Crime_Code_3\"].notna().sum(), \"non-null values\")\n",
    "print(\"Crime_Code_4:\", crime_df[\"Crime_Code_4\"].notna().sum(), \"non-null values\")"
   ]
  },
  {
   "cell_type": "markdown",
   "id": "945f6e35-1420-474e-a337-e19c2d006b9a",
   "metadata": {},
   "source": [
    "There definitely isn't enough data for Crime_Code_3 and Crime_Code_4. Crime_Code_2 potentially has enough data for analysis but I can't see how it would fit in with my current plan for this project. So all of the Crime_Code columns should be removed."
   ]
  },
  {
   "cell_type": "code",
   "execution_count": 305,
   "id": "1af37a9c-0e8e-4387-b353-f3573e65f8ac",
   "metadata": {},
   "outputs": [
    {
     "data": {
      "text/plain": [
       "Index(['Date_Reported', 'Date_Occurred', 'Time_Occurred', 'Area_Name',\n",
       "       'District_Number', 'Crime_Severity', 'Crime_Desc', 'Victim_Age',\n",
       "       'Victim_Gender', 'Victim_Ethnicity', 'Type_of_Premises_Code',\n",
       "       'Type_of_Premises_Desc', 'Weapon_Desc', 'Crime_Status_Code',\n",
       "       'Crime_Status_Desc', 'Latitude', 'Longitude'],\n",
       "      dtype='object')"
      ]
     },
     "execution_count": 305,
     "metadata": {},
     "output_type": "execute_result"
    }
   ],
   "source": [
    "crime_df = crime_df.drop([\"Crime_Code_1\", \"Crime_Code_2\", \"Crime_Code_3\", \"Crime_Code_4\"], axis=1)\n",
    "crime_df.columns"
   ]
  },
  {
   "cell_type": "markdown",
   "id": "4383182a-1610-43db-930c-03131898d44f",
   "metadata": {},
   "source": [
    "### Other Columns"
   ]
  },
  {
   "cell_type": "markdown",
   "id": "cdf884d8-443f-43ec-9352-f80cb7f3c05d",
   "metadata": {},
   "source": [
    "The columns that remain to be checked are Victim_Age, Victim_Gender, Victim_Ethnicity, Type_of_Premises_Code, Type_of_Premises_Desc, Crime_Status_Code and Crime_Status_Desc. Type_of_Premises_Code and Crime_Status_Code are redundant so can be removed straight away."
   ]
  },
  {
   "cell_type": "code",
   "execution_count": 308,
   "id": "0ed97347-199e-404e-8c77-b8050511db48",
   "metadata": {},
   "outputs": [],
   "source": [
    "crime_df = crime_df.drop([\"Type_of_Premises_Code\", \"Crime_Status_Code\"], axis=1)"
   ]
  },
  {
   "cell_type": "markdown",
   "id": "aaab8764-0474-491b-a397-af3b6e191cd2",
   "metadata": {},
   "source": [
    "Victim_Age, Victim_Gender and Victim_Ethnicity will definitely be useful for analysis. So the last thing to do is check what values are taken on by Type_of_Premises_Desc and Crime_Status_Desc."
   ]
  },
  {
   "cell_type": "code",
   "execution_count": 310,
   "id": "ce5879be-939d-4bfc-9759-507181172ed5",
   "metadata": {},
   "outputs": [
    {
     "data": {
      "text/plain": [
       "Type_of_Premises_Desc\n",
       "STREET                                          261032\n",
       "SINGLE FAMILY DWELLING                          163477\n",
       "MULTI-UNIT DWELLING (APARTMENT, DUPLEX, ETC)    118849\n",
       "PARKING LOT                                      69049\n",
       "OTHER BUSINESS                                   47565\n",
       "                                                 ...  \n",
       "MTA - SILVER LINE - LAC/USC MEDICAL CENTER           2\n",
       "DEPT OF DEFENSE FACILITY                             2\n",
       "HORSE RACING/SANTA ANITA PARK*                       2\n",
       "MTA - SILVER LINE - DOWNTOWN STREET STOPS            2\n",
       "TRAM/STREETCAR(BOXLIKE WAG ON RAILS)*                1\n",
       "Name: count, Length: 306, dtype: int64"
      ]
     },
     "execution_count": 310,
     "metadata": {},
     "output_type": "execute_result"
    }
   ],
   "source": [
    "crime_df[\"Type_of_Premises_Desc\"].value_counts()"
   ]
  },
  {
   "cell_type": "code",
   "execution_count": 311,
   "id": "2fa364ce-81f7-4827-9a7c-9e279dc60f59",
   "metadata": {},
   "outputs": [
    {
     "data": {
      "text/plain": [
       "Crime_Status_Desc\n",
       "Invest Cont     802961\n",
       "Adult Other     108504\n",
       "Adult Arrest     86300\n",
       "Juv Arrest        3239\n",
       "Juv Other         1850\n",
       "UNK                  6\n",
       "Name: count, dtype: int64"
      ]
     },
     "execution_count": 311,
     "metadata": {},
     "output_type": "execute_result"
    }
   ],
   "source": [
    "crime_df[\"Crime_Status_Desc\"].value_counts()"
   ]
  },
  {
   "cell_type": "markdown",
   "id": "16d3c5ae-145e-488a-9782-bd4a5d4523ff",
   "metadata": {},
   "source": [
    "Both columns have a fairly short range of values and enough data for categorical analysis, so I will keep both of them. I notice that Crime_Status_Desc has UNK as a value which will need to be dealt with, but that's a job for a different section. All unnecessary columns have been removed and I can have a look at what the dataset looks like now."
   ]
  },
  {
   "cell_type": "code",
   "execution_count": 313,
   "id": "8bf88818-e5ec-4225-a936-99f86317b812",
   "metadata": {},
   "outputs": [
    {
     "data": {
      "text/html": [
       "<div>\n",
       "<style scoped>\n",
       "    .dataframe tbody tr th:only-of-type {\n",
       "        vertical-align: middle;\n",
       "    }\n",
       "\n",
       "    .dataframe tbody tr th {\n",
       "        vertical-align: top;\n",
       "    }\n",
       "\n",
       "    .dataframe thead th {\n",
       "        text-align: right;\n",
       "    }\n",
       "</style>\n",
       "<table border=\"1\" class=\"dataframe\">\n",
       "  <thead>\n",
       "    <tr style=\"text-align: right;\">\n",
       "      <th></th>\n",
       "      <th>Date_Reported</th>\n",
       "      <th>Date_Occurred</th>\n",
       "      <th>Time_Occurred</th>\n",
       "      <th>Area_Name</th>\n",
       "      <th>District_Number</th>\n",
       "      <th>Crime_Severity</th>\n",
       "      <th>Crime_Desc</th>\n",
       "      <th>Victim_Age</th>\n",
       "      <th>Victim_Gender</th>\n",
       "      <th>Victim_Ethnicity</th>\n",
       "      <th>Type_of_Premises_Desc</th>\n",
       "      <th>Weapon_Desc</th>\n",
       "      <th>Crime_Status_Desc</th>\n",
       "      <th>Latitude</th>\n",
       "      <th>Longitude</th>\n",
       "    </tr>\n",
       "  </thead>\n",
       "  <tbody>\n",
       "    <tr>\n",
       "      <th>0</th>\n",
       "      <td>03/01/2020 12:00:00 AM</td>\n",
       "      <td>03/01/2020 12:00:00 AM</td>\n",
       "      <td>2130</td>\n",
       "      <td>Wilshire</td>\n",
       "      <td>784</td>\n",
       "      <td>1</td>\n",
       "      <td>VEHICLE - STOLEN</td>\n",
       "      <td>0</td>\n",
       "      <td>M</td>\n",
       "      <td>O</td>\n",
       "      <td>STREET</td>\n",
       "      <td>NaN</td>\n",
       "      <td>Adult Arrest</td>\n",
       "      <td>34.0375</td>\n",
       "      <td>-118.3506</td>\n",
       "    </tr>\n",
       "    <tr>\n",
       "      <th>1</th>\n",
       "      <td>02/09/2020 12:00:00 AM</td>\n",
       "      <td>02/08/2020 12:00:00 AM</td>\n",
       "      <td>1800</td>\n",
       "      <td>Central</td>\n",
       "      <td>182</td>\n",
       "      <td>1</td>\n",
       "      <td>BURGLARY FROM VEHICLE</td>\n",
       "      <td>47</td>\n",
       "      <td>M</td>\n",
       "      <td>O</td>\n",
       "      <td>BUS STOP/LAYOVER (ALSO QUERY 124)</td>\n",
       "      <td>NaN</td>\n",
       "      <td>Invest Cont</td>\n",
       "      <td>34.0444</td>\n",
       "      <td>-118.2628</td>\n",
       "    </tr>\n",
       "    <tr>\n",
       "      <th>2</th>\n",
       "      <td>11/11/2020 12:00:00 AM</td>\n",
       "      <td>11/04/2020 12:00:00 AM</td>\n",
       "      <td>1700</td>\n",
       "      <td>Southwest</td>\n",
       "      <td>356</td>\n",
       "      <td>1</td>\n",
       "      <td>BIKE - STOLEN</td>\n",
       "      <td>19</td>\n",
       "      <td>X</td>\n",
       "      <td>X</td>\n",
       "      <td>MULTI-UNIT DWELLING (APARTMENT, DUPLEX, ETC)</td>\n",
       "      <td>NaN</td>\n",
       "      <td>Invest Cont</td>\n",
       "      <td>34.0210</td>\n",
       "      <td>-118.3002</td>\n",
       "    </tr>\n",
       "    <tr>\n",
       "      <th>3</th>\n",
       "      <td>05/10/2023 12:00:00 AM</td>\n",
       "      <td>03/10/2020 12:00:00 AM</td>\n",
       "      <td>2037</td>\n",
       "      <td>Van Nuys</td>\n",
       "      <td>964</td>\n",
       "      <td>1</td>\n",
       "      <td>SHOPLIFTING-GRAND THEFT ($950.01 &amp; OVER)</td>\n",
       "      <td>19</td>\n",
       "      <td>M</td>\n",
       "      <td>O</td>\n",
       "      <td>CLOTHING STORE</td>\n",
       "      <td>NaN</td>\n",
       "      <td>Invest Cont</td>\n",
       "      <td>34.1576</td>\n",
       "      <td>-118.4387</td>\n",
       "    </tr>\n",
       "    <tr>\n",
       "      <th>4</th>\n",
       "      <td>09/09/2020 12:00:00 AM</td>\n",
       "      <td>09/09/2020 12:00:00 AM</td>\n",
       "      <td>630</td>\n",
       "      <td>Hollenbeck</td>\n",
       "      <td>413</td>\n",
       "      <td>1</td>\n",
       "      <td>VEHICLE - STOLEN</td>\n",
       "      <td>0</td>\n",
       "      <td>NaN</td>\n",
       "      <td>NaN</td>\n",
       "      <td>STREET</td>\n",
       "      <td>NaN</td>\n",
       "      <td>Invest Cont</td>\n",
       "      <td>34.0820</td>\n",
       "      <td>-118.2130</td>\n",
       "    </tr>\n",
       "  </tbody>\n",
       "</table>\n",
       "</div>"
      ],
      "text/plain": [
       "            Date_Reported           Date_Occurred  Time_Occurred   Area_Name  \\\n",
       "0  03/01/2020 12:00:00 AM  03/01/2020 12:00:00 AM           2130    Wilshire   \n",
       "1  02/09/2020 12:00:00 AM  02/08/2020 12:00:00 AM           1800     Central   \n",
       "2  11/11/2020 12:00:00 AM  11/04/2020 12:00:00 AM           1700   Southwest   \n",
       "3  05/10/2023 12:00:00 AM  03/10/2020 12:00:00 AM           2037    Van Nuys   \n",
       "4  09/09/2020 12:00:00 AM  09/09/2020 12:00:00 AM            630  Hollenbeck   \n",
       "\n",
       "   District_Number  Crime_Severity                                Crime_Desc  \\\n",
       "0              784               1                          VEHICLE - STOLEN   \n",
       "1              182               1                     BURGLARY FROM VEHICLE   \n",
       "2              356               1                             BIKE - STOLEN   \n",
       "3              964               1  SHOPLIFTING-GRAND THEFT ($950.01 & OVER)   \n",
       "4              413               1                          VEHICLE - STOLEN   \n",
       "\n",
       "   Victim_Age Victim_Gender Victim_Ethnicity  \\\n",
       "0           0             M                O   \n",
       "1          47             M                O   \n",
       "2          19             X                X   \n",
       "3          19             M                O   \n",
       "4           0           NaN              NaN   \n",
       "\n",
       "                          Type_of_Premises_Desc Weapon_Desc Crime_Status_Desc  \\\n",
       "0                                        STREET         NaN      Adult Arrest   \n",
       "1             BUS STOP/LAYOVER (ALSO QUERY 124)         NaN       Invest Cont   \n",
       "2  MULTI-UNIT DWELLING (APARTMENT, DUPLEX, ETC)         NaN       Invest Cont   \n",
       "3                                CLOTHING STORE         NaN       Invest Cont   \n",
       "4                                        STREET         NaN       Invest Cont   \n",
       "\n",
       "   Latitude  Longitude  \n",
       "0   34.0375  -118.3506  \n",
       "1   34.0444  -118.2628  \n",
       "2   34.0210  -118.3002  \n",
       "3   34.1576  -118.4387  \n",
       "4   34.0820  -118.2130  "
      ]
     },
     "execution_count": 313,
     "metadata": {},
     "output_type": "execute_result"
    }
   ],
   "source": [
    "crime_df = crime_df.reset_index(drop=True)\n",
    "crime_df.head()"
   ]
  },
  {
   "cell_type": "code",
   "execution_count": 314,
   "id": "2bee8e9b-cdd5-42e2-9cea-7b92f044f7e8",
   "metadata": {},
   "outputs": [
    {
     "data": {
      "text/plain": [
       "(1002860, 15)"
      ]
     },
     "execution_count": 314,
     "metadata": {},
     "output_type": "execute_result"
    }
   ],
   "source": [
    "crime_df.shape"
   ]
  },
  {
   "cell_type": "markdown",
   "id": "16968d5a-0a5b-4f72-88d6-c32fb6dc684e",
   "metadata": {},
   "source": [
    "# Cleaning Columns"
   ]
  },
  {
   "cell_type": "markdown",
   "id": "125bada6-05af-45e5-8ad5-45870c81d330",
   "metadata": {},
   "source": [
    "Now I want to look at each column individually and make sure the data is represented in a consistent way throughout the dataset. I want to turn the data into a suitable datatype and ensure the data is immediately understandable."
   ]
  },
  {
   "cell_type": "markdown",
   "id": "96429a1c-f8db-43b8-bdff-b59ea78447e7",
   "metadata": {},
   "source": [
    "### Time Columns"
   ]
  },
  {
   "cell_type": "markdown",
   "id": "515ae19b-e8c9-4dd1-860f-f07bc19a72a9",
   "metadata": {},
   "source": [
    "The Date_Reported and Date_Occured columns include the date and time, although the time seems to be 12AM throughout the whole dataset."
   ]
  },
  {
   "cell_type": "code",
   "execution_count": 319,
   "id": "27a5eae4-be87-442b-a9a9-031feefc0d73",
   "metadata": {},
   "outputs": [
    {
     "data": {
      "text/plain": [
       "dtype('O')"
      ]
     },
     "execution_count": 319,
     "metadata": {},
     "output_type": "execute_result"
    }
   ],
   "source": [
    "crime_df[\"Date_Reported\"].dtype"
   ]
  },
  {
   "cell_type": "markdown",
   "id": "db72ce50-7f98-41c5-9aae-4a63f7c2a859",
   "metadata": {},
   "source": [
    "The data is currently stored as an object, not a datetime, so I will start by removing the time component in each row."
   ]
  },
  {
   "cell_type": "code",
   "execution_count": 321,
   "id": "f8924770-8d62-49de-946a-5d1393e5de10",
   "metadata": {},
   "outputs": [],
   "source": [
    "crime_df[\"Date_Reported\"] = crime_df[\"Date_Reported\"].str.replace(\"12:00:00 AM\", \"\")\n",
    "crime_df[\"Date_Occurred\"] = crime_df[\"Date_Occurred\"].str.replace(\"12:00:00 AM\", \"\")"
   ]
  },
  {
   "cell_type": "code",
   "execution_count": 322,
   "id": "b59134eb-6fcf-4a09-bc6e-b617c0194608",
   "metadata": {},
   "outputs": [],
   "source": [
    "crime_df[\"Date_Reported\"] = pd.to_datetime(crime_df[\"Date_Reported\"])\n",
    "crime_df[\"Date_Occurred\"] = pd.to_datetime(crime_df[\"Date_Occurred\"])"
   ]
  },
  {
   "cell_type": "code",
   "execution_count": 323,
   "id": "032f25f1-4a9a-41ca-8105-97ff82c6ed3e",
   "metadata": {},
   "outputs": [
    {
     "data": {
      "text/plain": [
       "Time_Occurred\n",
       "1200    35160\n",
       "1800    26530\n",
       "1700    25151\n",
       "2000    24741\n",
       "1900    23029\n",
       "        ...  \n",
       "741        29\n",
       "534        26\n",
       "2332       25\n",
       "559        23\n",
       "531        19\n",
       "Name: count, Length: 1439, dtype: int64"
      ]
     },
     "execution_count": 323,
     "metadata": {},
     "output_type": "execute_result"
    }
   ],
   "source": [
    "crime_df[\"Time_Occurred\"].value_counts()"
   ]
  },
  {
   "cell_type": "markdown",
   "id": "755c30dc-1ce9-41e6-9aef-ba87e2662555",
   "metadata": {},
   "source": [
    "There are definitely some problems with the Time_Occurred column. It should be in 24-hour format but some values are only three digits long. I'll see how many values are four digits long."
   ]
  },
  {
   "cell_type": "code",
   "execution_count": 325,
   "id": "3706123b-a5ad-4741-9230-52e6c0add2d8",
   "metadata": {},
   "outputs": [
    {
     "data": {
      "text/plain": [
       "Time_Occurred\n",
       "4    726636\n",
       "3    235843\n",
       "1     21488\n",
       "2     18893\n",
       "Name: count, dtype: Int64"
      ]
     },
     "execution_count": 325,
     "metadata": {},
     "output_type": "execute_result"
    }
   ],
   "source": [
    "crime_df[\"Time_Occurred\"].astype(\"string\").str.len().value_counts()"
   ]
  },
  {
   "cell_type": "markdown",
   "id": "82437ba5-34a3-4ba1-9117-a0c66989c6f8",
   "metadata": {},
   "source": [
    "When the time is three digits long, there is no way to know if it is AM or PM, or indeed if the data has been entered correctly. The only solution I can think of is to set invalid times as null and accept that there is no time component for around a quarter of the data."
   ]
  },
  {
   "cell_type": "code",
   "execution_count": 327,
   "id": "7cede813-6a11-4250-ace8-5d2fe5429eba",
   "metadata": {},
   "outputs": [],
   "source": [
    "time_lengths = crime_df[\"Time_Occurred\"].astype(\"string\").str.len()\n",
    "crime_df[\"Time_Occurred\"] = crime_df[\"Time_Occurred\"].mask(time_lengths.isin([1,2,3]), np.nan)"
   ]
  },
  {
   "cell_type": "code",
   "execution_count": 328,
   "id": "c2fa349a-2ede-4dde-a7aa-cd1fd53f7525",
   "metadata": {},
   "outputs": [],
   "source": [
    "crime_df[\"Time_Occurred\"] = pd.to_datetime(crime_df[\"Time_Occurred\"], format=\"%H%M\").dt.time"
   ]
  },
  {
   "cell_type": "markdown",
   "id": "867402a7-646a-4347-a091-a28f28aae4ea",
   "metadata": {},
   "source": [
    "Now the time is in a standard format and invalid times have been changed to NaT."
   ]
  },
  {
   "cell_type": "markdown",
   "id": "080b304e-0cb9-40cf-bc3f-13cb559b228b",
   "metadata": {},
   "source": [
    "### Area Name and District Number"
   ]
  },
  {
   "cell_type": "code",
   "execution_count": 331,
   "id": "8756ea9a-a144-4548-ab3f-42be484d6d04",
   "metadata": {},
   "outputs": [
    {
     "data": {
      "text/plain": [
       "Area_Name\n",
       "Central        69525\n",
       "77th Street    61637\n",
       "Pacific        59298\n",
       "Southwest      57313\n",
       "Hollywood      52331\n",
       "N Hollywood    50986\n",
       "Olympic        49984\n",
       "Southeast      49886\n",
       "Newton         49009\n",
       "Wilshire       48116\n",
       "Rampart        46767\n",
       "West LA        45663\n",
       "Northeast      42849\n",
       "Van Nuys       42798\n",
       "West Valley    42073\n",
       "Devonshire     41657\n",
       "Harbor         41292\n",
       "Topanga        41286\n",
       "Mission        40283\n",
       "Hollenbeck     37025\n",
       "Foothill       33082\n",
       "Name: count, dtype: int64"
      ]
     },
     "execution_count": 331,
     "metadata": {},
     "output_type": "execute_result"
    }
   ],
   "source": [
    "crime_df[\"Area_Name\"].value_counts()"
   ]
  },
  {
   "cell_type": "markdown",
   "id": "5b4f1c6d-6d1d-4d1d-88a2-f1cb5b95f2b5",
   "metadata": {},
   "source": [
    "Area_Name looks fine! Onto the next column."
   ]
  },
  {
   "cell_type": "code",
   "execution_count": 333,
   "id": "49286a0f-8b5e-4056-a196-b598a5563a6a",
   "metadata": {},
   "outputs": [
    {
     "data": {
      "text/plain": [
       "District_Number\n",
       "162     5390\n",
       "1494    5317\n",
       "645     5014\n",
       "182     4884\n",
       "646     4416\n",
       "        ... \n",
       "1784       1\n",
       "225        1\n",
       "1053       1\n",
       "1087       1\n",
       "902        1\n",
       "Name: count, Length: 1210, dtype: int64"
      ]
     },
     "execution_count": 333,
     "metadata": {},
     "output_type": "execute_result"
    }
   ],
   "source": [
    "crime_df[\"District_Number\"].value_counts()"
   ]
  },
  {
   "cell_type": "code",
   "execution_count": 334,
   "id": "03be4d3e-8071-4aac-b05b-5dad09c8a23f",
   "metadata": {},
   "outputs": [
    {
     "data": {
      "text/plain": [
       "Date_Reported            datetime64[ns]\n",
       "Date_Occurred            datetime64[ns]\n",
       "Time_Occurred                    object\n",
       "Area_Name                        object\n",
       "District_Number                   int64\n",
       "Crime_Severity                    int64\n",
       "Crime_Desc                       object\n",
       "Victim_Age                        int64\n",
       "Victim_Gender                    object\n",
       "Victim_Ethnicity                 object\n",
       "Type_of_Premises_Desc            object\n",
       "Weapon_Desc                      object\n",
       "Crime_Status_Desc                object\n",
       "Latitude                        float64\n",
       "Longitude                       float64\n",
       "dtype: object"
      ]
     },
     "execution_count": 334,
     "metadata": {},
     "output_type": "execute_result"
    }
   ],
   "source": [
    "crime_df.dtypes"
   ]
  },
  {
   "cell_type": "markdown",
   "id": "44fa917c-63d8-4c2d-9302-f8e8b6d68782",
   "metadata": {},
   "source": [
    "District_Number has no obvious problems and since Pandas correctly interpreted it as int64, everything looks fine."
   ]
  },
  {
   "cell_type": "markdown",
   "id": "cf92e562-d97d-4139-9f7a-60a5cfbf6b2c",
   "metadata": {},
   "source": [
    "### Crime Severity and Description"
   ]
  },
  {
   "cell_type": "code",
   "execution_count": 337,
   "id": "ae49ca48-f447-46fa-a3ea-27578acf4b3a",
   "metadata": {},
   "outputs": [
    {
     "data": {
      "text/plain": [
       "Crime_Severity\n",
       "1    601027\n",
       "2    401833\n",
       "Name: count, dtype: int64"
      ]
     },
     "execution_count": 337,
     "metadata": {},
     "output_type": "execute_result"
    }
   ],
   "source": [
    "crime_df[\"Crime_Severity\"].value_counts()"
   ]
  },
  {
   "cell_type": "markdown",
   "id": "e3659cda-3064-4078-9f8f-a688c8228264",
   "metadata": {},
   "source": [
    "There are no issues with Crime_Severity but I want to change the values to text to make its meaning clearer."
   ]
  },
  {
   "cell_type": "code",
   "execution_count": 339,
   "id": "4054e851-73b0-4b51-8dea-b90645ebea3f",
   "metadata": {},
   "outputs": [],
   "source": [
    "crime_df[\"Crime_Severity\"] = crime_df[\"Crime_Severity\"].map({1: \"Severe\", 2: \"Not Severe\"})"
   ]
  },
  {
   "cell_type": "code",
   "execution_count": 340,
   "id": "f74e1165-1b3c-40d1-a7cb-4956b590db29",
   "metadata": {},
   "outputs": [
    {
     "data": {
      "text/plain": [
       "Crime_Desc\n",
       "VEHICLE - STOLEN                                           115182\n",
       "BATTERY - SIMPLE ASSAULT                                    74798\n",
       "BURGLARY FROM VEHICLE                                       63259\n",
       "THEFT OF IDENTITY                                           62407\n",
       "VANDALISM - FELONY ($400 & OVER, ALL CHURCH VANDALISMS)     60950\n",
       "                                                            ...  \n",
       "FIREARMS EMERGENCY PROTECTIVE ORDER (FIREARMS EPO)              5\n",
       "FIREARMS RESTRAINING ORDER (FIREARMS RO)                        4\n",
       "DISHONEST EMPLOYEE ATTEMPTED THEFT                              4\n",
       "TRAIN WRECKING                                                  1\n",
       "DRUNK ROLL - ATTEMPT                                            1\n",
       "Name: count, Length: 140, dtype: int64"
      ]
     },
     "execution_count": 340,
     "metadata": {},
     "output_type": "execute_result"
    }
   ],
   "source": [
    "crime_df[\"Crime_Desc\"].value_counts()"
   ]
  },
  {
   "cell_type": "markdown",
   "id": "c5499979-27b5-42d7-b249-3c8b948ea06b",
   "metadata": {},
   "source": [
    "There are lots of values in Crime_Desc that don't have enough data for useful analysis. So I'll combine all values that have less than 1000 entries into one \"Other\" value."
   ]
  },
  {
   "cell_type": "code",
   "execution_count": 342,
   "id": "2e835e12-68c0-4a62-9ee1-26fb73bc6937",
   "metadata": {},
   "outputs": [],
   "source": [
    "value_counts = crime_df[\"Crime_Desc\"].value_counts()\n",
    "rare_values = value_counts[value_counts < 1000].index\n",
    "crime_df[\"Crime_Desc\"] = crime_df[\"Crime_Desc\"].replace(rare_values, \"Other\")"
   ]
  },
  {
   "cell_type": "code",
   "execution_count": 343,
   "id": "596944e8-c8a1-4a07-8522-0b7026e149d9",
   "metadata": {},
   "outputs": [
    {
     "data": {
      "text/plain": [
       "Crime_Desc\n",
       "VEHICLE - STOLEN                                            115182\n",
       "BATTERY - SIMPLE ASSAULT                                     74798\n",
       "BURGLARY FROM VEHICLE                                        63259\n",
       "THEFT OF IDENTITY                                            62407\n",
       "VANDALISM - FELONY ($400 & OVER, ALL CHURCH VANDALISMS)      60950\n",
       "BURGLARY                                                     57590\n",
       "ASSAULT WITH DEADLY WEAPON, AGGRAVATED ASSAULT               53496\n",
       "THEFT PLAIN - PETTY ($950 & UNDER)                           53465\n",
       "INTIMATE PARTNER - SIMPLE ASSAULT                            46709\n",
       "THEFT FROM MOTOR VEHICLE - PETTY ($950 & UNDER)              41263\n",
       "THEFT FROM MOTOR VEHICLE - GRAND ($950.01 AND OVER)          36810\n",
       "THEFT-GRAND ($950.01 & OVER)EXCPT,GUNS,FOWL,LIVESTK,PROD     34999\n",
       "ROBBERY                                                      32244\n",
       "SHOPLIFTING - PETTY THEFT ($950 & UNDER)                     30728\n",
       "VANDALISM - MISDEAMEANOR ($399 OR UNDER)                     25323\n",
       "CRIMINAL THREATS - NO WEAPON DISPLAYED                       19271\n",
       "TRESPASSING                                                  18396\n",
       "Other                                                        17491\n",
       "BRANDISH WEAPON                                              14526\n",
       "INTIMATE PARTNER - AGGRAVATED ASSAULT                        12653\n",
       "VIOLATION OF RESTRAINING ORDER                               11747\n",
       "LETTERS, LEWD  -  TELEPHONE CALLS, LEWD                       8691\n",
       "BIKE - STOLEN                                                 8180\n",
       "OTHER MISCELLANEOUS CRIME                                     6952\n",
       "VIOLATION OF COURT ORDER                                      6377\n",
       "BUNCO, GRAND THEFT                                            6183\n",
       "SHOPLIFTING-GRAND THEFT ($950.01 & OVER)                      5765\n",
       "ATTEMPTED ROBBERY                                             4829\n",
       "OTHER ASSAULT                                                 4244\n",
       "EMBEZZLEMENT, GRAND THEFT ($950.01 & OVER)                    4174\n",
       "BATTERY WITH SEXUAL CONTACT                                   4160\n",
       "THEFT, PERSON                                                 4153\n",
       "BURGLARY, ATTEMPTED                                           3899\n",
       "VEHICLE - ATTEMPT STOLEN                                      3862\n",
       "RAPE, FORCIBLE                                                3751\n",
       "PICKPOCKET                                                    3720\n",
       "CHILD ABUSE (PHYSICAL) - SIMPLE ASSAULT                       3558\n",
       "DOCUMENT FORGERY / STOLEN FELONY                              3369\n",
       "VEHICLE, STOLEN - OTHER (MOTORIZED SCOOTERS, BIKES, ETC)      2924\n",
       "DISCHARGE FIREARMS/SHOTS FIRED                                2722\n",
       "CONTEMPT OF COURT                                             2721\n",
       "BATTERY POLICE (SIMPLE)                                       2565\n",
       "ARSON                                                         2562\n",
       "EXTORTION                                                     2029\n",
       "BUNCO, PETTY THEFT                                            2027\n",
       "CRM AGNST CHLD (13 OR UNDER) (14-15 & SUSP 10 YRS OLDER)      1763\n",
       "FAILURE TO YIELD                                              1714\n",
       "SHOTS FIRED AT INHABITED DWELLING                             1629\n",
       "CRIMINAL HOMICIDE                                             1562\n",
       "DISTURBING THE PEACE                                          1513\n",
       "SEXUAL PENETRATION W/FOREIGN OBJECT                           1319\n",
       "CHILD NEGLECT (SEE 300 W.I.C.)                                1201\n",
       "INDECENT EXPOSURE                                             1198\n",
       "ASSAULT WITH DEADLY WEAPON ON POLICE OFFICER                  1078\n",
       "SEX,UNLAWFUL(INC MUTUAL CONSENT, PENETRATION W/ FRGN OBJ      1078\n",
       "CHILD ANNOYING (17YRS & UNDER)                                1043\n",
       "RESISTING ARREST                                              1038\n",
       "Name: count, dtype: int64"
      ]
     },
     "execution_count": 343,
     "metadata": {},
     "output_type": "execute_result"
    }
   ],
   "source": [
    "crime_df[\"Crime_Desc\"].value_counts()"
   ]
  },
  {
   "cell_type": "markdown",
   "id": "a1ad8295-7835-4437-a4fb-8fae51a13499",
   "metadata": {},
   "source": [
    "Now that there's a sensible range of values, I want to rename them to make the crime descriptions easier to understand."
   ]
  },
  {
   "cell_type": "code",
   "execution_count": 345,
   "id": "70ba0cf6-1971-4f55-870e-069ae099af25",
   "metadata": {},
   "outputs": [],
   "source": [
    "crime_df[\"Crime_Desc\"] = crime_df[\"Crime_Desc\"].map({\"VEHICLE - STOLEN\": \"Stolen Vehicle\", \n",
    "                                                     \"BATTERY - SIMPLE ASSAULT\": \"Simple Assault\",\n",
    "                                                     \"BURGLARY FROM VEHICLE\": \"Burglary from Vehicle\",\n",
    "                                                     \"THEFT OF IDENTITY\": \"Identity Theft\",\n",
    "                                                     \"VANDALISM - FELONY ($400 & OVER, ALL CHURCH VANDALISMS)\": \"Felony Vandalism\",\n",
    "                                                     \"ASSAULT WITH DEADLY WEAPON, AGGRAVATED ASSAULT\": \"Assault with Deadly Weapon\",\n",
    "                                                     \"THEFT PLAIN - PETTY ($950 & UNDER)\": \"Petty Plain Theft\",\n",
    "                                                     \"INTIMATE PARTNER - SIMPLE ASSAULT\": \"Simple Assault on Partner\",\n",
    "                                                     \"THEFT FROM MOTOR VEHICLE - PETTY ($950 & UNDER)\": \"Petty Theft from Vehicle\",\n",
    "                                                     \"THEFT FROM MOTOR VEHICLE - GRAND ($950.01 AND OVER)\": \"Grand Theft from Vehicle\",\n",
    "                                                     \"THEFT-GRAND ($950.01 & OVER)EXCPT,GUNS,FOWL,LIVESTK,PROD\": \"Grand Theft\",\n",
    "                                                     \"SHOPLIFTING - PETTY THEFT ($950 & UNDER)\": \"Petty Shoplifting\",\n",
    "                                                     \"VANDALISM - MISDEAMEANOR ($399 OR UNDER)\": \"Misdeameanor Vandalism\",\n",
    "                                                     \"CRIMINAL THREATS - NO WEAPON DISPLAYED\": \"Criminal Threats with no Weapon\",\n",
    "                                                     \"INTIMATE PARTNER - AGGRAVATED ASSAULT\": \"Aggravated Assault on Partner\",\n",
    "                                                     \"LETTERS, LEWD  -  TELEPHONE CALLS, LEWD\": \"Harassing Communication\",\n",
    "                                                     \"BIKE - STOLEN\": \"Stolen Bike\",\n",
    "                                                     \"OTHER MISCELLANEOUS CRIME\": \"Other\",\n",
    "                                                     \"BUNCO, GRAND THEFT\": \"Bunco Grand Theft\",\n",
    "                                                     \"SHOPLIFTING-GRAND THEFT ($950.01 & OVER)\": \"Grand Shoplifting\",\n",
    "                                                     \"EMBEZZLEMENT, GRAND THEFT ($950.01 & OVER)\": \"Grand Embezzelment\",\n",
    "                                                     \"THEFT, PERSON\": \"Theft from Person\",\n",
    "                                                     \"BURGLARY, ATTEMPTED\": \"Attempted Burglary\",\n",
    "                                                     \"VEHICLE - ATTEMPT STOLEN\": \"Attempted Stolen Vehicle\",\n",
    "                                                     \"DISCHARGE FIREARMS/SHOTS FIRED\": \"Shots Fired\",\n",
    "                                                     \"RAPE, FORCIBLE\": \"Forcible Rape\",\n",
    "                                                     \"CHILD ABUSE (PHYSICAL) - SIMPLE ASSAULT\": \"Child Abuse\",\n",
    "                                                     \"DOCUMENT FORGERY / STOLEN FELONY\": \"Document Forgery\",\n",
    "                                                     \"VEHICLE, STOLEN - OTHER (MOTORIZED SCOOTERS, BIKES, ETC)\": \"Stolen Vehicle\",\n",
    "                                                     \"BATTERY POLICE (SIMPLE)\": \"Battery on Police\",\n",
    "                                                     \"BUNCO, PETTY THEFT\": \"Bunco Petty Theft\",\n",
    "                                                     \"CRM AGNST CHLD (13 OR UNDER) (14-15 & SUSP 10 YRS OLDER)\": \"Criminal Offense against Child\",\n",
    "                                                     \"SEXUAL PENETRATION W/FOREIGN OBJECT\": \"Sexual Penetration with Object\",\n",
    "                                                     \"CHILD NEGLECT (SEE 300 W.I.C.)\": \"Child Neglect\",\n",
    "                                                     \"SEX,UNLAWFUL(INC MUTUAL CONSENT, PENETRATION W/ FRGN OBJ\": \"Unlawful Sex\",\n",
    "                                                     \"CHILD ANNOYING (17YRS & UNDER)\": \"Harassing a Child\"}).fillna(crime_df[\"Crime_Desc\"])\n",
    "crime_df[\"Crime_Desc\"] = crime_df[\"Crime_Desc\"].str.title()"
   ]
  },
  {
   "cell_type": "markdown",
   "id": "7a18da94-8973-42ed-962f-324416bb13e5",
   "metadata": {},
   "source": [
    "### Vitctim Age, Gender and Ethnicity"
   ]
  },
  {
   "cell_type": "markdown",
   "id": "cce58433-9072-4363-88a8-a2d9a47418ff",
   "metadata": {},
   "source": [
    "The next column to check is Victim_Age, and I can already see from the head of the dataset that there are some values of 0. "
   ]
  },
  {
   "cell_type": "code",
   "execution_count": 348,
   "id": "ac4da54b-3787-4ace-af57-366937e48614",
   "metadata": {},
   "outputs": [
    {
     "data": {
      "text/plain": [
       "Victim_Age\n",
       "-4           3\n",
       "-3           5\n",
       "-2          28\n",
       "-1          99\n",
       " 0      268562\n",
       "         ...  \n",
       " 96         95\n",
       " 97         72\n",
       " 98         71\n",
       " 99        354\n",
       " 120         1\n",
       "Name: count, Length: 104, dtype: int64"
      ]
     },
     "execution_count": 348,
     "metadata": {},
     "output_type": "execute_result"
    }
   ],
   "source": [
    "crime_df[\"Victim_Age\"].value_counts().sort_index()"
   ]
  },
  {
   "cell_type": "markdown",
   "id": "639db9bc-44da-4587-9fb9-5fb23f92e2bb",
   "metadata": {},
   "source": [
    "It looks like there's no official way for them to indicate that the age is not known, so the value depends on who is entering the data. Any negative ages are clearly invalid and a 0 probably indicates the age was not available. The number of entries for ages in the 90s decreases steadily but suddenly increases again at 99, which could suggest some people chose 99 to indicate lack of data. 120 is also an outlier and probably invalid. So, I will change the following values to null: -4, -3, -2, -1, 0, 99, 120."
   ]
  },
  {
   "cell_type": "code",
   "execution_count": 350,
   "id": "22cd7f91-b8e3-4ca3-8be1-bfd8584e359a",
   "metadata": {},
   "outputs": [],
   "source": [
    "crime_df[\"Victim_Age\"] = crime_df[\"Victim_Age\"].apply(lambda x: np.nan if x in [-4,-3,-2,-1,0,99,120] else x)"
   ]
  },
  {
   "cell_type": "code",
   "execution_count": 351,
   "id": "7cf90a23-3fe5-4437-a2cd-fa0d47039276",
   "metadata": {},
   "outputs": [
    {
     "data": {
      "text/plain": [
       "Victim_Gender\n",
       "M    402930\n",
       "F    357960\n",
       "X     97279\n",
       "H       114\n",
       "-         1\n",
       "Name: count, dtype: int64"
      ]
     },
     "execution_count": 351,
     "metadata": {},
     "output_type": "execute_result"
    }
   ],
   "source": [
    "crime_df[\"Victim_Gender\"].value_counts()"
   ]
  },
  {
   "cell_type": "markdown",
   "id": "2eb89a95-7f3e-487b-a696-1a0786978a1d",
   "metadata": {},
   "source": [
    "The data source on Kaggle indicates that M means Male, F means Female and X means Unknown. The meaning of H and - are not specified so I will assume that these genders are also unknown. So I will change the values of X, H and - to null."
   ]
  },
  {
   "cell_type": "code",
   "execution_count": 353,
   "id": "a7efa203-cc01-4430-a18c-f154281d333c",
   "metadata": {},
   "outputs": [],
   "source": [
    "crime_df[\"Victim_Gender\"] = crime_df[\"Victim_Gender\"].apply(lambda x: np.nan if x in [\"X\",\"H\",\"-\"] else x)\n",
    "crime_df[\"Victim_Gender\"] = crime_df[\"Victim_Gender\"].map({\"M\": \"Male\", \"F\": \"Female\"})"
   ]
  },
  {
   "cell_type": "code",
   "execution_count": 354,
   "id": "adf5e75e-3cde-4f41-83d8-0faf1c9870e0",
   "metadata": {},
   "outputs": [
    {
     "data": {
      "text/plain": [
       "array(['O', 'X', nan, 'W', 'H', 'B', 'A', 'K', 'C', 'F', 'Z', 'V', 'I',\n",
       "       'P', 'J', 'G', 'U', 'D', 'S', 'L', '-'], dtype=object)"
      ]
     },
     "execution_count": 354,
     "metadata": {},
     "output_type": "execute_result"
    }
   ],
   "source": [
    "crime_df[\"Victim_Ethnicity\"].unique()"
   ]
  },
  {
   "cell_type": "markdown",
   "id": "2f60a5b3-b818-4f7b-b0c1-0c2025e667f9",
   "metadata": {},
   "source": [
    "The ethnicities represented by these letters is not specified on Kaggle. By looking at other crime statistics, it is possible to deduce that H=Hispanic, W=White, B=African American, A=Asian. I will assume that O=Other and group the other letters together as \"Unknown\"."
   ]
  },
  {
   "cell_type": "code",
   "execution_count": 356,
   "id": "cee7ac53-2892-41bb-a5c3-5c6bd007fd00",
   "metadata": {},
   "outputs": [],
   "source": [
    "crime_df[\"Victim_Ethnicity\"] = crime_df[\"Victim_Ethnicity\"].map({\"O\": \"Other\",\n",
    "                                                                 \"H\": \"Hispanic\",\n",
    "                                                                 \"W\": \"White\",\n",
    "                                                                 \"B\": \"African American\",\n",
    "                                                                 \"A\": \"Asian\"}).fillna(\"Unknown\")"
   ]
  },
  {
   "cell_type": "markdown",
   "id": "a55369cf-0ea4-43fa-a98e-7bd43da62e89",
   "metadata": {},
   "source": [
    "### Type of Premises"
   ]
  },
  {
   "cell_type": "code",
   "execution_count": 358,
   "id": "4ef52af4-58e7-4bb0-8bc9-313aee247fe6",
   "metadata": {},
   "outputs": [
    {
     "data": {
      "text/plain": [
       "Type_of_Premises_Desc\n",
       "STREET                                          261032\n",
       "SINGLE FAMILY DWELLING                          163477\n",
       "MULTI-UNIT DWELLING (APARTMENT, DUPLEX, ETC)    118849\n",
       "PARKING LOT                                      69049\n",
       "OTHER BUSINESS                                   47565\n",
       "                                                 ...  \n",
       "MTA - SILVER LINE - LAC/USC MEDICAL CENTER           2\n",
       "DEPT OF DEFENSE FACILITY                             2\n",
       "HORSE RACING/SANTA ANITA PARK*                       2\n",
       "MTA - SILVER LINE - DOWNTOWN STREET STOPS            2\n",
       "TRAM/STREETCAR(BOXLIKE WAG ON RAILS)*                1\n",
       "Name: count, Length: 306, dtype: int64"
      ]
     },
     "execution_count": 358,
     "metadata": {},
     "output_type": "execute_result"
    }
   ],
   "source": [
    "crime_df[\"Type_of_Premises_Desc\"].value_counts()"
   ]
  },
  {
   "cell_type": "markdown",
   "id": "eb9deed6-b2da-489b-a64c-b99eac6c22d1",
   "metadata": {},
   "source": [
    "Similarly to with Crime_Desc, I will group all values with less than 1000 occurences under \"Other\"."
   ]
  },
  {
   "cell_type": "code",
   "execution_count": 360,
   "id": "1a70e0c2-d9b1-4e59-9a4f-c2dc5eaa7ac2",
   "metadata": {},
   "outputs": [],
   "source": [
    "value_counts = crime_df[\"Type_of_Premises_Desc\"].value_counts()\n",
    "rare_values = value_counts[value_counts < 1000].index\n",
    "crime_df[\"Type_of_Premises_Desc\"] = crime_df[\"Type_of_Premises_Desc\"].replace(rare_values, \"Other\")"
   ]
  },
  {
   "cell_type": "code",
   "execution_count": 361,
   "id": "7cf72c5d-d84c-4f1e-9437-3f70734e3f72",
   "metadata": {},
   "outputs": [
    {
     "data": {
      "text/plain": [
       "array(['STREET', 'Other', 'MULTI-UNIT DWELLING (APARTMENT, DUPLEX, ETC)',\n",
       "       'CLOTHING STORE', 'PUBLIC STORAGE', 'OTHER BUSINESS',\n",
       "       'PARKING LOT', 'ALLEY', 'GAS STATION', 'SINGLE FAMILY DWELLING',\n",
       "       'CONDOMINIUM/TOWNHOUSE', 'RESTAURANT/FAST FOOD', 'SIDEWALK',\n",
       "       'NURSING/CONVALESCENT/RETIREMENT HOME', 'MARKET',\n",
       "       'GOVERNMENT FACILITY (FEDERAL,STATE, COUNTY & CITY)', 'DRIVEWAY',\n",
       "       'MINI-MART', 'YARD (RESIDENTIAL/BUSINESS)',\n",
       "       'VEHICLE, PASSENGER/TRUCK', 'GARAGE/CARPORT',\n",
       "       'PARKING UNDERGROUND/BUILDING', 'PORCH, RESIDENTIAL', 'DRUG STORE',\n",
       "       'MTA BUS', 'OTHER PREMISE', 'BUS STOP', 'POLICE FACILITY',\n",
       "       'MISSIONS/SHELTERS',\n",
       "       'CHURCH/CHAPEL (CHANGED 03-03 FROM CHURCH/TEMPLE)',\n",
       "       'DISCOUNT STORE (99 CENT,DOLLAR,ETC.', 'OFFICE BUILDING/OFFICE',\n",
       "       'OTHER STORE', 'HOTEL', 'OTHER RESIDENCE', 'OTHER/OUTSIDE',\n",
       "       'JUNIOR HIGH SCHOOL', 'NIGHT CLUB (OPEN EVENINGS ONLY)',\n",
       "       \"COFFEE SHOP (STARBUCKS, COFFEE BEAN, PEET'S, ETC.)\", 'CYBERSPACE',\n",
       "       'HIGH SCHOOL', 'CONSTRUCTION SITE', 'MOTEL', 'PARK/PLAYGROUND',\n",
       "       'LAUNDROMAT', 'ELEMENTARY SCHOOL',\n",
       "       'LA UNION STATION (NOT LINE SPECIFIC)',\n",
       "       \"DIY CENTER (LOWE'S,HOME DEPOT,OSH,CONTRACTORS WAREHOUSE)\",\n",
       "       'HOSPITAL', 'DEPARTMENT STORE',\n",
       "       'MTA - RED LINE - WESTLAKE/MACARTHUR PARK',\n",
       "       'COLLEGE/JUNIOR COLLEGE/UNIVERSITY', 'HEALTH SPA/GYM', 'MAIL BOX',\n",
       "       'MEDICAL/DENTAL OFFICES', 'LIQUOR STORE', 'AUTO REPAIR SHOP',\n",
       "       'SHOPPING MALL (COMMON AREA)',\n",
       "       'ABANDONED BUILDING ABANDONED HOUSE', 'STORAGE SHED',\n",
       "       'CELL PHONE STORE', 'AUTOMATED TELLER MACHINE (ATM)',\n",
       "       'BAR/COCKTAIL/NIGHTCLUB', 'BANK', 'WAREHOUSE', 'BEACH',\n",
       "       'TRANSPORTATION FACILITY (AIRPORT)',\n",
       "       'MTA - RED LINE - NORTH HOLLYWOOD'], dtype=object)"
      ]
     },
     "execution_count": 361,
     "metadata": {},
     "output_type": "execute_result"
    }
   ],
   "source": [
    "crime_df[\"Type_of_Premises_Desc\"].unique()"
   ]
  },
  {
   "cell_type": "code",
   "execution_count": 362,
   "id": "c963c748-7a4e-4f12-b366-64f96b8f0ab4",
   "metadata": {},
   "outputs": [],
   "source": [
    "crime_df[\"Type_of_Premises_Desc\"] = (crime_df[\"Type_of_Premises_Desc\"]\n",
    "                                     .map({\"MULTI-UNIT DWELLING (APARTMENT, DUPLEX, ETC)\": \"Multi-Unit Dwelling\",\n",
    "                                           \"GOVERNMENT FACILITY (FEDERAL,STATE, COUNTY & CITY)\": \"Government Facility\",\n",
    "                                           \"YARD (RESIDENTIAL/BUSINESS)\": \"Yard\",\n",
    "                                           \"VEHICLE, PASSENGER/TRUCK\": \"Vehicle\",\n",
    "                                           \"PORCH, RESIDENTIAL\": \"Residential Porch\",\n",
    "                                           \"OTHER PREMISE\": \"Other\",\n",
    "                                           \"CHURCH/CHAPEL (CHANGED 03-03 FROM CHURCH/TEMPLE)\": \"Church/Chapel\",\n",
    "                                           \"DISCOUNT STORE (99 CENT,DOLLAR,ETC.\": \"Discount Store\",\n",
    "                                           \"OFFICE BUILDING/OFFICE\": \"Office Building\",\n",
    "                                           \"OTHER/OUTSIDE\": \"Other\",\n",
    "                                           \"NIGHT CLUB (OPEN EVENINGS ONLY)\": \"Night Club\",\n",
    "                                           \"COFFEE SHOP (STARBUCKS, COFFEE BEAN, PEET'S, ETC.)\": \"Coffee Shop\",\n",
    "                                           \"LA UNION STATION (NOT LINE SPECIFIC)\": \"Union Station\",\n",
    "                                           \"DIY CENTER (LOWE'S,HOME DEPOT,OSH,CONTRACTORS WAREHOUSE)\": \"DIY Center\",\n",
    "                                           \"MTA - RED LINE - WESTLAKE/MACARTHUR PARK\": \"WESTLAKE/MACARTHUR PARK\",\n",
    "                                           \"COLLEGE/JUNIOR COLLEGE/UNIVERSITY\": \"College/University\",\n",
    "                                           \"SHOPPING MALL (COMMON AREA)\": \"Shopping Mall\",\n",
    "                                           \"ABANDONED BUILDING ABANDONED HOUSE\": \"Abandoned Building\",\n",
    "                                           \"AUTOMATED TELLER MACHINE (ATM)\": \"ATM\",\n",
    "                                           \"BAR/COCKTAIL/NIGHTCLUB\": \"Bar\",\n",
    "                                           \"TRANSPORTATION FACILITY (AIRPORT)\": \"Airport\",\n",
    "                                           \"MTA - RED LINE - NORTH HOLLYWOOD\": \"North Hollywood\"})).fillna(crime_df[\"Type_of_Premises_Desc\"])\n",
    "crime_df[\"Type_of_Premises_Desc\"] = crime_df[\"Type_of_Premises_Desc\"].str.title()"
   ]
  },
  {
   "cell_type": "markdown",
   "id": "0ae6fbe7-fa0c-4e87-a70b-eb1b3edc512e",
   "metadata": {},
   "source": [
    "### Weapon Description"
   ]
  },
  {
   "cell_type": "code",
   "execution_count": 364,
   "id": "a2761756-ab04-40ab-9853-ce318cd29dae",
   "metadata": {},
   "outputs": [
    {
     "data": {
      "text/plain": [
       "Weapon_Desc\n",
       "STRONG-ARM (HANDS, FIST, FEET OR BODILY FORCE)    174672\n",
       "UNKNOWN WEAPON/OTHER WEAPON                        36308\n",
       "VERBAL THREAT                                      23834\n",
       "HAND GUN                                           20135\n",
       "SEMI-AUTOMATIC PISTOL                               7242\n",
       "                                                   ...  \n",
       "MAC-11 SEMIAUTOMATIC ASSAULT WEAPON                    3\n",
       "MAC-10 SEMIAUTOMATIC ASSAULT WEAPON                    2\n",
       "HECKLER & KOCH 91 SEMIAUTOMATIC ASSAULT RIFLE          2\n",
       "M-14 SEMIAUTOMATIC ASSAULT RIFLE                       2\n",
       "M1-1 SEMIAUTOMATIC ASSAULT RIFLE                       1\n",
       "Name: count, Length: 79, dtype: int64"
      ]
     },
     "execution_count": 364,
     "metadata": {},
     "output_type": "execute_result"
    }
   ],
   "source": [
    "crime_df[\"Weapon_Desc\"].value_counts()"
   ]
  },
  {
   "cell_type": "markdown",
   "id": "0cc2e21d-89c7-4aa7-a321-dac9c7c6589c",
   "metadata": {},
   "source": [
    "Again, I want to group together those with less than 1000 entries and then rename the values appropriately..."
   ]
  },
  {
   "cell_type": "code",
   "execution_count": 366,
   "id": "58c9c54f-40f5-4ef1-9f62-b0aac3b2d627",
   "metadata": {},
   "outputs": [],
   "source": [
    "value_counts = crime_df[\"Weapon_Desc\"].value_counts()\n",
    "rare_values = value_counts[value_counts < 1000].index\n",
    "crime_df[\"Weapon_Desc\"] = crime_df[\"Weapon_Desc\"].replace(rare_values, \"Other\")"
   ]
  },
  {
   "cell_type": "code",
   "execution_count": 367,
   "id": "741d66c9-f5d3-45f4-8334-cbe2a55badb5",
   "metadata": {},
   "outputs": [
    {
     "data": {
      "text/plain": [
       "Weapon_Desc\n",
       "STRONG-ARM (HANDS, FIST, FEET OR BODILY FORCE)    174672\n",
       "UNKNOWN WEAPON/OTHER WEAPON                        36308\n",
       "VERBAL THREAT                                      23834\n",
       "HAND GUN                                           20135\n",
       "Other                                              12460\n",
       "SEMI-AUTOMATIC PISTOL                               7242\n",
       "KNIFE WITH BLADE 6INCHES OR LESS                    6833\n",
       "UNKNOWN FIREARM                                     6576\n",
       "OTHER KNIFE                                         5877\n",
       "MACE/PEPPER SPRAY                                   3727\n",
       "VEHICLE                                             3258\n",
       "ROCK/THROWN OBJECT                                  2738\n",
       "PIPE/METAL PIPE                                     2468\n",
       "BOTTLE                                              2414\n",
       "FOLDING KNIFE                                       2266\n",
       "STICK                                               2248\n",
       "CLUB/BAT                                            2088\n",
       "KITCHEN KNIFE                                       1921\n",
       "AIR PISTOL/REVOLVER/RIFLE/BB GUN                    1862\n",
       "KNIFE WITH BLADE OVER 6 INCHES IN LENGTH            1697\n",
       "BLUNT INSTRUMENT                                    1385\n",
       "HAMMER                                              1353\n",
       "SIMULATED GUN                                       1246\n",
       "REVOLVER                                            1185\n",
       "MACHETE                                             1144\n",
       "Name: count, dtype: int64"
      ]
     },
     "execution_count": 367,
     "metadata": {},
     "output_type": "execute_result"
    }
   ],
   "source": [
    "crime_df[\"Weapon_Desc\"].value_counts()"
   ]
  },
  {
   "cell_type": "code",
   "execution_count": 368,
   "id": "966a166e-3855-43c6-943b-1e3d526e95c1",
   "metadata": {},
   "outputs": [],
   "source": [
    "crime_df[\"Weapon_Desc\"] = (crime_df[\"Weapon_Desc\"]\n",
    "                           .map({\"STRONG-ARM (HANDS, FIST, FEET OR BODILY FORCE)\": \"Body\",\n",
    "                                 \"UNKNOWN WEAPON/OTHER WEAPON\": \"Other\",\n",
    "                                 \"KNIFE WITH BLADE 6INCHES OR LESS\": \"Knife\",\n",
    "                                 \"KNIFE WITH BLADE OVER 6 INCHES IN LENGTH\": \"Knife\",\n",
    "                                 \"OTHER KNIFE\": \"Knife\"})).fillna(crime_df[\"Weapon_Desc\"])\n",
    "crime_df[\"Weapon_Desc\"] = crime_df[\"Weapon_Desc\"].str.title()"
   ]
  },
  {
   "cell_type": "markdown",
   "id": "6a145f40-48b3-451e-8e80-b82e38a8e45f",
   "metadata": {},
   "source": [
    "### Crime Status"
   ]
  },
  {
   "cell_type": "code",
   "execution_count": 370,
   "id": "42b8c49b-6ad3-479a-b98f-c0fa8255110a",
   "metadata": {},
   "outputs": [
    {
     "data": {
      "text/plain": [
       "Crime_Status_Desc\n",
       "Invest Cont     802961\n",
       "Adult Other     108504\n",
       "Adult Arrest     86300\n",
       "Juv Arrest        3239\n",
       "Juv Other         1850\n",
       "UNK                  6\n",
       "Name: count, dtype: int64"
      ]
     },
     "execution_count": 370,
     "metadata": {},
     "output_type": "execute_result"
    }
   ],
   "source": [
    "crime_df[\"Crime_Status_Desc\"].value_counts()"
   ]
  },
  {
   "cell_type": "markdown",
   "id": "9246f660-c686-44eb-9471-14aacb17ab3d",
   "metadata": {},
   "source": [
    "For Crime_Status_Desc, since there are so few rows with unknown value, I want to actually remove these rows entirely. Then, I will rename the remaining values so that they are easier to understand just like before."
   ]
  },
  {
   "cell_type": "code",
   "execution_count": 372,
   "id": "92958521-7faa-48a4-87df-c5ad1eff39e0",
   "metadata": {},
   "outputs": [],
   "source": [
    "crime_df = crime_df[crime_df[\"Crime_Status_Desc\"] != \"UNK\"]\n",
    "crime_df = crime_df.reset_index(drop=True)"
   ]
  },
  {
   "cell_type": "code",
   "execution_count": 373,
   "id": "ac31111c-487f-4ebc-9e89-8179e94609de",
   "metadata": {},
   "outputs": [],
   "source": [
    "crime_df[\"Crime_Status_Desc\"] = (crime_df[\"Crime_Status_Desc\"]\n",
    "                                .map({\"Invest Cont\": \"Investigation Ongoing\",\n",
    "                                      \"Juv Arrest\": \"Juvenile Arrested\",\n",
    "                                      \"Adult Arrest\": \"Adult Arrested\",\n",
    "                                      \"Juv Other\": \"Juvenile Other\"}))"
   ]
  },
  {
   "cell_type": "markdown",
   "id": "b2ef872f-049a-4d73-bdac-d269b7e45d07",
   "metadata": {},
   "source": [
    "### Checking Datatypes"
   ]
  },
  {
   "cell_type": "markdown",
   "id": "c1727129-e194-4aa9-bae0-3a31c2f4a94b",
   "metadata": {},
   "source": [
    "The Latitude and Longitude columns seem to be fine already. Now I'll check the dtypes to see if any of them can be changed."
   ]
  },
  {
   "cell_type": "code",
   "execution_count": 376,
   "id": "8ab64658-4d95-4152-aeaa-d7059525d3f3",
   "metadata": {},
   "outputs": [
    {
     "data": {
      "text/plain": [
       "Date_Reported            datetime64[ns]\n",
       "Date_Occurred            datetime64[ns]\n",
       "Time_Occurred                    object\n",
       "Area_Name                        object\n",
       "District_Number                   int64\n",
       "Crime_Severity                   object\n",
       "Crime_Desc                       object\n",
       "Victim_Age                      float64\n",
       "Victim_Gender                    object\n",
       "Victim_Ethnicity                 object\n",
       "Type_of_Premises_Desc            object\n",
       "Weapon_Desc                      object\n",
       "Crime_Status_Desc                object\n",
       "Latitude                        float64\n",
       "Longitude                       float64\n",
       "dtype: object"
      ]
     },
     "execution_count": 376,
     "metadata": {},
     "output_type": "execute_result"
    }
   ],
   "source": [
    "crime_df.dtypes"
   ]
  },
  {
   "cell_type": "markdown",
   "id": "74860a11-d56f-4bda-b57f-2b2c9a6d579f",
   "metadata": {},
   "source": [
    "Victim_Age can be changed from a float to an integer datatype to slightly optimise the data."
   ]
  },
  {
   "cell_type": "code",
   "execution_count": 378,
   "id": "87b148e3-48b4-4666-b7c2-d928b9e5bc8c",
   "metadata": {},
   "outputs": [],
   "source": [
    "crime_df[\"Victim_Age\"] = crime_df[\"Victim_Age\"].astype(\"Int64\")"
   ]
  },
  {
   "cell_type": "markdown",
   "id": "880422b4-fc04-4172-a6d5-f76c87ab9c4e",
   "metadata": {},
   "source": [
    "The datatypes now can't be improved any further without impacting readability of the data. So null values have been dealt with, unnecessary columns removed, and each column has been dealt with one by one to ensure they are consitent and don't have any invalid values. Categorical data has been grouped where necessary so that there is sufficient data to analyse each category. This means the data has now been fully cleaned and is ready for EDA and further analysis in Tableau."
   ]
  },
  {
   "cell_type": "code",
   "execution_count": 380,
   "id": "10ffa2d9-9c9c-40b7-b1df-487c9d73b65c",
   "metadata": {},
   "outputs": [
    {
     "data": {
      "text/html": [
       "<div>\n",
       "<style scoped>\n",
       "    .dataframe tbody tr th:only-of-type {\n",
       "        vertical-align: middle;\n",
       "    }\n",
       "\n",
       "    .dataframe tbody tr th {\n",
       "        vertical-align: top;\n",
       "    }\n",
       "\n",
       "    .dataframe thead th {\n",
       "        text-align: right;\n",
       "    }\n",
       "</style>\n",
       "<table border=\"1\" class=\"dataframe\">\n",
       "  <thead>\n",
       "    <tr style=\"text-align: right;\">\n",
       "      <th></th>\n",
       "      <th>Date_Reported</th>\n",
       "      <th>Date_Occurred</th>\n",
       "      <th>Time_Occurred</th>\n",
       "      <th>Area_Name</th>\n",
       "      <th>District_Number</th>\n",
       "      <th>Crime_Severity</th>\n",
       "      <th>Crime_Desc</th>\n",
       "      <th>Victim_Age</th>\n",
       "      <th>Victim_Gender</th>\n",
       "      <th>Victim_Ethnicity</th>\n",
       "      <th>Type_of_Premises_Desc</th>\n",
       "      <th>Weapon_Desc</th>\n",
       "      <th>Crime_Status_Desc</th>\n",
       "      <th>Latitude</th>\n",
       "      <th>Longitude</th>\n",
       "    </tr>\n",
       "  </thead>\n",
       "  <tbody>\n",
       "    <tr>\n",
       "      <th>0</th>\n",
       "      <td>2020-03-01</td>\n",
       "      <td>2020-03-01</td>\n",
       "      <td>21:30:00</td>\n",
       "      <td>Wilshire</td>\n",
       "      <td>784</td>\n",
       "      <td>Severe</td>\n",
       "      <td>Stolen Vehicle</td>\n",
       "      <td>&lt;NA&gt;</td>\n",
       "      <td>Male</td>\n",
       "      <td>Other</td>\n",
       "      <td>Street</td>\n",
       "      <td>NaN</td>\n",
       "      <td>Adult Arrested</td>\n",
       "      <td>34.0375</td>\n",
       "      <td>-118.3506</td>\n",
       "    </tr>\n",
       "    <tr>\n",
       "      <th>1</th>\n",
       "      <td>2020-02-09</td>\n",
       "      <td>2020-02-08</td>\n",
       "      <td>18:00:00</td>\n",
       "      <td>Central</td>\n",
       "      <td>182</td>\n",
       "      <td>Severe</td>\n",
       "      <td>Burglary From Vehicle</td>\n",
       "      <td>47</td>\n",
       "      <td>Male</td>\n",
       "      <td>Other</td>\n",
       "      <td>Other</td>\n",
       "      <td>NaN</td>\n",
       "      <td>Investigation Ongoing</td>\n",
       "      <td>34.0444</td>\n",
       "      <td>-118.2628</td>\n",
       "    </tr>\n",
       "    <tr>\n",
       "      <th>2</th>\n",
       "      <td>2020-11-11</td>\n",
       "      <td>2020-11-04</td>\n",
       "      <td>17:00:00</td>\n",
       "      <td>Southwest</td>\n",
       "      <td>356</td>\n",
       "      <td>Severe</td>\n",
       "      <td>Stolen Bike</td>\n",
       "      <td>19</td>\n",
       "      <td>NaN</td>\n",
       "      <td>Unknown</td>\n",
       "      <td>Multi-Unit Dwelling</td>\n",
       "      <td>NaN</td>\n",
       "      <td>Investigation Ongoing</td>\n",
       "      <td>34.0210</td>\n",
       "      <td>-118.3002</td>\n",
       "    </tr>\n",
       "    <tr>\n",
       "      <th>3</th>\n",
       "      <td>2023-05-10</td>\n",
       "      <td>2020-03-10</td>\n",
       "      <td>20:37:00</td>\n",
       "      <td>Van Nuys</td>\n",
       "      <td>964</td>\n",
       "      <td>Severe</td>\n",
       "      <td>Grand Shoplifting</td>\n",
       "      <td>19</td>\n",
       "      <td>Male</td>\n",
       "      <td>Other</td>\n",
       "      <td>Clothing Store</td>\n",
       "      <td>NaN</td>\n",
       "      <td>Investigation Ongoing</td>\n",
       "      <td>34.1576</td>\n",
       "      <td>-118.4387</td>\n",
       "    </tr>\n",
       "    <tr>\n",
       "      <th>4</th>\n",
       "      <td>2020-09-09</td>\n",
       "      <td>2020-09-09</td>\n",
       "      <td>NaT</td>\n",
       "      <td>Hollenbeck</td>\n",
       "      <td>413</td>\n",
       "      <td>Severe</td>\n",
       "      <td>Stolen Vehicle</td>\n",
       "      <td>&lt;NA&gt;</td>\n",
       "      <td>NaN</td>\n",
       "      <td>Unknown</td>\n",
       "      <td>Street</td>\n",
       "      <td>NaN</td>\n",
       "      <td>Investigation Ongoing</td>\n",
       "      <td>34.0820</td>\n",
       "      <td>-118.2130</td>\n",
       "    </tr>\n",
       "  </tbody>\n",
       "</table>\n",
       "</div>"
      ],
      "text/plain": [
       "  Date_Reported Date_Occurred Time_Occurred   Area_Name  District_Number  \\\n",
       "0    2020-03-01    2020-03-01      21:30:00    Wilshire              784   \n",
       "1    2020-02-09    2020-02-08      18:00:00     Central              182   \n",
       "2    2020-11-11    2020-11-04      17:00:00   Southwest              356   \n",
       "3    2023-05-10    2020-03-10      20:37:00    Van Nuys              964   \n",
       "4    2020-09-09    2020-09-09           NaT  Hollenbeck              413   \n",
       "\n",
       "  Crime_Severity             Crime_Desc  Victim_Age Victim_Gender  \\\n",
       "0         Severe         Stolen Vehicle        <NA>          Male   \n",
       "1         Severe  Burglary From Vehicle          47          Male   \n",
       "2         Severe            Stolen Bike          19           NaN   \n",
       "3         Severe      Grand Shoplifting          19          Male   \n",
       "4         Severe         Stolen Vehicle        <NA>           NaN   \n",
       "\n",
       "  Victim_Ethnicity Type_of_Premises_Desc Weapon_Desc      Crime_Status_Desc  \\\n",
       "0            Other                Street         NaN         Adult Arrested   \n",
       "1            Other                 Other         NaN  Investigation Ongoing   \n",
       "2          Unknown   Multi-Unit Dwelling         NaN  Investigation Ongoing   \n",
       "3            Other        Clothing Store         NaN  Investigation Ongoing   \n",
       "4          Unknown                Street         NaN  Investigation Ongoing   \n",
       "\n",
       "   Latitude  Longitude  \n",
       "0   34.0375  -118.3506  \n",
       "1   34.0444  -118.2628  \n",
       "2   34.0210  -118.3002  \n",
       "3   34.1576  -118.4387  \n",
       "4   34.0820  -118.2130  "
      ]
     },
     "execution_count": 380,
     "metadata": {},
     "output_type": "execute_result"
    }
   ],
   "source": [
    "crime_df.head()"
   ]
  },
  {
   "cell_type": "markdown",
   "id": "2b37f228-4e70-4661-80b0-c7eff2350fd6",
   "metadata": {},
   "source": [
    "# Exporting the Data"
   ]
  },
  {
   "cell_type": "code",
   "execution_count": 382,
   "id": "5f75caa0-d4e9-470d-a3af-cceedaec7c84",
   "metadata": {},
   "outputs": [],
   "source": [
    "crime_df.to_csv(\"Crime Data Cleaned.csv\")"
   ]
  }
 ],
 "metadata": {
  "kernelspec": {
   "display_name": "Python 3 (ipykernel)",
   "language": "python",
   "name": "python3"
  },
  "language_info": {
   "codemirror_mode": {
    "name": "ipython",
    "version": 3
   },
   "file_extension": ".py",
   "mimetype": "text/x-python",
   "name": "python",
   "nbconvert_exporter": "python",
   "pygments_lexer": "ipython3",
   "version": "3.12.4"
  }
 },
 "nbformat": 4,
 "nbformat_minor": 5
}
